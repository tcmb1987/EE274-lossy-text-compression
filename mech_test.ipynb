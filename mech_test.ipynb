{
  "nbformat": 4,
  "nbformat_minor": 0,
  "metadata": {
    "colab": {
      "provenance": [],
      "include_colab_link": true
    },
    "kernelspec": {
      "name": "python3",
      "display_name": "Python 3"
    },
    "language_info": {
      "name": "python"
    },
    "widgets": {
      "application/vnd.jupyter.widget-state+json": {
        "d7d27a9c5f714943858af9676b5a5af6": {
          "model_module": "@jupyter-widgets/controls",
          "model_name": "HBoxModel",
          "model_module_version": "1.5.0",
          "state": {
            "_dom_classes": [],
            "_model_module": "@jupyter-widgets/controls",
            "_model_module_version": "1.5.0",
            "_model_name": "HBoxModel",
            "_view_count": null,
            "_view_module": "@jupyter-widgets/controls",
            "_view_module_version": "1.5.0",
            "_view_name": "HBoxView",
            "box_style": "",
            "children": [
              "IPY_MODEL_53efd577f368413a8081ca513802e176",
              "IPY_MODEL_9dce349676be46278d9b399f7939f021",
              "IPY_MODEL_20e231f066f34f48a08fe52f866b542d"
            ],
            "layout": "IPY_MODEL_2f4d0e955cd24799b4a52a11fa4f4361"
          }
        },
        "53efd577f368413a8081ca513802e176": {
          "model_module": "@jupyter-widgets/controls",
          "model_name": "HTMLModel",
          "model_module_version": "1.5.0",
          "state": {
            "_dom_classes": [],
            "_model_module": "@jupyter-widgets/controls",
            "_model_module_version": "1.5.0",
            "_model_name": "HTMLModel",
            "_view_count": null,
            "_view_module": "@jupyter-widgets/controls",
            "_view_module_version": "1.5.0",
            "_view_name": "HTMLView",
            "description": "",
            "description_tooltip": null,
            "layout": "IPY_MODEL_a72f0d05e7204258a2ac8e28a43a1e6f",
            "placeholder": "​",
            "style": "IPY_MODEL_3df6aad574fa4008844ea851833c6b2c",
            "value": "Downloading: 100%"
          }
        },
        "9dce349676be46278d9b399f7939f021": {
          "model_module": "@jupyter-widgets/controls",
          "model_name": "FloatProgressModel",
          "model_module_version": "1.5.0",
          "state": {
            "_dom_classes": [],
            "_model_module": "@jupyter-widgets/controls",
            "_model_module_version": "1.5.0",
            "_model_name": "FloatProgressModel",
            "_view_count": null,
            "_view_module": "@jupyter-widgets/controls",
            "_view_module_version": "1.5.0",
            "_view_name": "ProgressView",
            "bar_style": "success",
            "description": "",
            "description_tooltip": null,
            "layout": "IPY_MODEL_f6c00da67eff4fd5b6c8323d5eb8b0f8",
            "max": 231508,
            "min": 0,
            "orientation": "horizontal",
            "style": "IPY_MODEL_982c3add84814321ac5f5cea9452879b",
            "value": 231508
          }
        },
        "20e231f066f34f48a08fe52f866b542d": {
          "model_module": "@jupyter-widgets/controls",
          "model_name": "HTMLModel",
          "model_module_version": "1.5.0",
          "state": {
            "_dom_classes": [],
            "_model_module": "@jupyter-widgets/controls",
            "_model_module_version": "1.5.0",
            "_model_name": "HTMLModel",
            "_view_count": null,
            "_view_module": "@jupyter-widgets/controls",
            "_view_module_version": "1.5.0",
            "_view_name": "HTMLView",
            "description": "",
            "description_tooltip": null,
            "layout": "IPY_MODEL_3b842acbc77746db84d6fc0235af08dd",
            "placeholder": "​",
            "style": "IPY_MODEL_bd692a1b6b264e2db6be0778a39ceca5",
            "value": " 232k/232k [00:00&lt;00:00, 735kB/s]"
          }
        },
        "2f4d0e955cd24799b4a52a11fa4f4361": {
          "model_module": "@jupyter-widgets/base",
          "model_name": "LayoutModel",
          "model_module_version": "1.2.0",
          "state": {
            "_model_module": "@jupyter-widgets/base",
            "_model_module_version": "1.2.0",
            "_model_name": "LayoutModel",
            "_view_count": null,
            "_view_module": "@jupyter-widgets/base",
            "_view_module_version": "1.2.0",
            "_view_name": "LayoutView",
            "align_content": null,
            "align_items": null,
            "align_self": null,
            "border": null,
            "bottom": null,
            "display": null,
            "flex": null,
            "flex_flow": null,
            "grid_area": null,
            "grid_auto_columns": null,
            "grid_auto_flow": null,
            "grid_auto_rows": null,
            "grid_column": null,
            "grid_gap": null,
            "grid_row": null,
            "grid_template_areas": null,
            "grid_template_columns": null,
            "grid_template_rows": null,
            "height": null,
            "justify_content": null,
            "justify_items": null,
            "left": null,
            "margin": null,
            "max_height": null,
            "max_width": null,
            "min_height": null,
            "min_width": null,
            "object_fit": null,
            "object_position": null,
            "order": null,
            "overflow": null,
            "overflow_x": null,
            "overflow_y": null,
            "padding": null,
            "right": null,
            "top": null,
            "visibility": null,
            "width": null
          }
        },
        "a72f0d05e7204258a2ac8e28a43a1e6f": {
          "model_module": "@jupyter-widgets/base",
          "model_name": "LayoutModel",
          "model_module_version": "1.2.0",
          "state": {
            "_model_module": "@jupyter-widgets/base",
            "_model_module_version": "1.2.0",
            "_model_name": "LayoutModel",
            "_view_count": null,
            "_view_module": "@jupyter-widgets/base",
            "_view_module_version": "1.2.0",
            "_view_name": "LayoutView",
            "align_content": null,
            "align_items": null,
            "align_self": null,
            "border": null,
            "bottom": null,
            "display": null,
            "flex": null,
            "flex_flow": null,
            "grid_area": null,
            "grid_auto_columns": null,
            "grid_auto_flow": null,
            "grid_auto_rows": null,
            "grid_column": null,
            "grid_gap": null,
            "grid_row": null,
            "grid_template_areas": null,
            "grid_template_columns": null,
            "grid_template_rows": null,
            "height": null,
            "justify_content": null,
            "justify_items": null,
            "left": null,
            "margin": null,
            "max_height": null,
            "max_width": null,
            "min_height": null,
            "min_width": null,
            "object_fit": null,
            "object_position": null,
            "order": null,
            "overflow": null,
            "overflow_x": null,
            "overflow_y": null,
            "padding": null,
            "right": null,
            "top": null,
            "visibility": null,
            "width": null
          }
        },
        "3df6aad574fa4008844ea851833c6b2c": {
          "model_module": "@jupyter-widgets/controls",
          "model_name": "DescriptionStyleModel",
          "model_module_version": "1.5.0",
          "state": {
            "_model_module": "@jupyter-widgets/controls",
            "_model_module_version": "1.5.0",
            "_model_name": "DescriptionStyleModel",
            "_view_count": null,
            "_view_module": "@jupyter-widgets/base",
            "_view_module_version": "1.2.0",
            "_view_name": "StyleView",
            "description_width": ""
          }
        },
        "f6c00da67eff4fd5b6c8323d5eb8b0f8": {
          "model_module": "@jupyter-widgets/base",
          "model_name": "LayoutModel",
          "model_module_version": "1.2.0",
          "state": {
            "_model_module": "@jupyter-widgets/base",
            "_model_module_version": "1.2.0",
            "_model_name": "LayoutModel",
            "_view_count": null,
            "_view_module": "@jupyter-widgets/base",
            "_view_module_version": "1.2.0",
            "_view_name": "LayoutView",
            "align_content": null,
            "align_items": null,
            "align_self": null,
            "border": null,
            "bottom": null,
            "display": null,
            "flex": null,
            "flex_flow": null,
            "grid_area": null,
            "grid_auto_columns": null,
            "grid_auto_flow": null,
            "grid_auto_rows": null,
            "grid_column": null,
            "grid_gap": null,
            "grid_row": null,
            "grid_template_areas": null,
            "grid_template_columns": null,
            "grid_template_rows": null,
            "height": null,
            "justify_content": null,
            "justify_items": null,
            "left": null,
            "margin": null,
            "max_height": null,
            "max_width": null,
            "min_height": null,
            "min_width": null,
            "object_fit": null,
            "object_position": null,
            "order": null,
            "overflow": null,
            "overflow_x": null,
            "overflow_y": null,
            "padding": null,
            "right": null,
            "top": null,
            "visibility": null,
            "width": null
          }
        },
        "982c3add84814321ac5f5cea9452879b": {
          "model_module": "@jupyter-widgets/controls",
          "model_name": "ProgressStyleModel",
          "model_module_version": "1.5.0",
          "state": {
            "_model_module": "@jupyter-widgets/controls",
            "_model_module_version": "1.5.0",
            "_model_name": "ProgressStyleModel",
            "_view_count": null,
            "_view_module": "@jupyter-widgets/base",
            "_view_module_version": "1.2.0",
            "_view_name": "StyleView",
            "bar_color": null,
            "description_width": ""
          }
        },
        "3b842acbc77746db84d6fc0235af08dd": {
          "model_module": "@jupyter-widgets/base",
          "model_name": "LayoutModel",
          "model_module_version": "1.2.0",
          "state": {
            "_model_module": "@jupyter-widgets/base",
            "_model_module_version": "1.2.0",
            "_model_name": "LayoutModel",
            "_view_count": null,
            "_view_module": "@jupyter-widgets/base",
            "_view_module_version": "1.2.0",
            "_view_name": "LayoutView",
            "align_content": null,
            "align_items": null,
            "align_self": null,
            "border": null,
            "bottom": null,
            "display": null,
            "flex": null,
            "flex_flow": null,
            "grid_area": null,
            "grid_auto_columns": null,
            "grid_auto_flow": null,
            "grid_auto_rows": null,
            "grid_column": null,
            "grid_gap": null,
            "grid_row": null,
            "grid_template_areas": null,
            "grid_template_columns": null,
            "grid_template_rows": null,
            "height": null,
            "justify_content": null,
            "justify_items": null,
            "left": null,
            "margin": null,
            "max_height": null,
            "max_width": null,
            "min_height": null,
            "min_width": null,
            "object_fit": null,
            "object_position": null,
            "order": null,
            "overflow": null,
            "overflow_x": null,
            "overflow_y": null,
            "padding": null,
            "right": null,
            "top": null,
            "visibility": null,
            "width": null
          }
        },
        "bd692a1b6b264e2db6be0778a39ceca5": {
          "model_module": "@jupyter-widgets/controls",
          "model_name": "DescriptionStyleModel",
          "model_module_version": "1.5.0",
          "state": {
            "_model_module": "@jupyter-widgets/controls",
            "_model_module_version": "1.5.0",
            "_model_name": "DescriptionStyleModel",
            "_view_count": null,
            "_view_module": "@jupyter-widgets/base",
            "_view_module_version": "1.2.0",
            "_view_name": "StyleView",
            "description_width": ""
          }
        },
        "49d3d244a1304781a5471f1bd8a7a1cb": {
          "model_module": "@jupyter-widgets/controls",
          "model_name": "HBoxModel",
          "model_module_version": "1.5.0",
          "state": {
            "_dom_classes": [],
            "_model_module": "@jupyter-widgets/controls",
            "_model_module_version": "1.5.0",
            "_model_name": "HBoxModel",
            "_view_count": null,
            "_view_module": "@jupyter-widgets/controls",
            "_view_module_version": "1.5.0",
            "_view_name": "HBoxView",
            "box_style": "",
            "children": [
              "IPY_MODEL_e1253346c4864f70a1ecb7ed9a81ff84",
              "IPY_MODEL_76402aeb022a479b8523e30be39806b4",
              "IPY_MODEL_47a517f73a84469293e656884904c36c"
            ],
            "layout": "IPY_MODEL_8817bf78eb8349ca966c5b970b4260a2"
          }
        },
        "e1253346c4864f70a1ecb7ed9a81ff84": {
          "model_module": "@jupyter-widgets/controls",
          "model_name": "HTMLModel",
          "model_module_version": "1.5.0",
          "state": {
            "_dom_classes": [],
            "_model_module": "@jupyter-widgets/controls",
            "_model_module_version": "1.5.0",
            "_model_name": "HTMLModel",
            "_view_count": null,
            "_view_module": "@jupyter-widgets/controls",
            "_view_module_version": "1.5.0",
            "_view_name": "HTMLView",
            "description": "",
            "description_tooltip": null,
            "layout": "IPY_MODEL_cd281e81c4e546c08757f57de4e2e2af",
            "placeholder": "​",
            "style": "IPY_MODEL_011fdefcdf004e18b24344d93e8bf092",
            "value": "Downloading: 100%"
          }
        },
        "76402aeb022a479b8523e30be39806b4": {
          "model_module": "@jupyter-widgets/controls",
          "model_name": "FloatProgressModel",
          "model_module_version": "1.5.0",
          "state": {
            "_dom_classes": [],
            "_model_module": "@jupyter-widgets/controls",
            "_model_module_version": "1.5.0",
            "_model_name": "FloatProgressModel",
            "_view_count": null,
            "_view_module": "@jupyter-widgets/controls",
            "_view_module_version": "1.5.0",
            "_view_name": "ProgressView",
            "bar_style": "success",
            "description": "",
            "description_tooltip": null,
            "layout": "IPY_MODEL_c52c2dbd5a3d4b3ebf84c10acf939adf",
            "max": 28,
            "min": 0,
            "orientation": "horizontal",
            "style": "IPY_MODEL_7f6555608f0942e29076ff90e9fd8a6a",
            "value": 28
          }
        },
        "47a517f73a84469293e656884904c36c": {
          "model_module": "@jupyter-widgets/controls",
          "model_name": "HTMLModel",
          "model_module_version": "1.5.0",
          "state": {
            "_dom_classes": [],
            "_model_module": "@jupyter-widgets/controls",
            "_model_module_version": "1.5.0",
            "_model_name": "HTMLModel",
            "_view_count": null,
            "_view_module": "@jupyter-widgets/controls",
            "_view_module_version": "1.5.0",
            "_view_name": "HTMLView",
            "description": "",
            "description_tooltip": null,
            "layout": "IPY_MODEL_5fa20fb77a1c4ae586a3da716b776ed8",
            "placeholder": "​",
            "style": "IPY_MODEL_9c58cb98c043491597dbce549ec7d847",
            "value": " 28.0/28.0 [00:00&lt;00:00, 824B/s]"
          }
        },
        "8817bf78eb8349ca966c5b970b4260a2": {
          "model_module": "@jupyter-widgets/base",
          "model_name": "LayoutModel",
          "model_module_version": "1.2.0",
          "state": {
            "_model_module": "@jupyter-widgets/base",
            "_model_module_version": "1.2.0",
            "_model_name": "LayoutModel",
            "_view_count": null,
            "_view_module": "@jupyter-widgets/base",
            "_view_module_version": "1.2.0",
            "_view_name": "LayoutView",
            "align_content": null,
            "align_items": null,
            "align_self": null,
            "border": null,
            "bottom": null,
            "display": null,
            "flex": null,
            "flex_flow": null,
            "grid_area": null,
            "grid_auto_columns": null,
            "grid_auto_flow": null,
            "grid_auto_rows": null,
            "grid_column": null,
            "grid_gap": null,
            "grid_row": null,
            "grid_template_areas": null,
            "grid_template_columns": null,
            "grid_template_rows": null,
            "height": null,
            "justify_content": null,
            "justify_items": null,
            "left": null,
            "margin": null,
            "max_height": null,
            "max_width": null,
            "min_height": null,
            "min_width": null,
            "object_fit": null,
            "object_position": null,
            "order": null,
            "overflow": null,
            "overflow_x": null,
            "overflow_y": null,
            "padding": null,
            "right": null,
            "top": null,
            "visibility": null,
            "width": null
          }
        },
        "cd281e81c4e546c08757f57de4e2e2af": {
          "model_module": "@jupyter-widgets/base",
          "model_name": "LayoutModel",
          "model_module_version": "1.2.0",
          "state": {
            "_model_module": "@jupyter-widgets/base",
            "_model_module_version": "1.2.0",
            "_model_name": "LayoutModel",
            "_view_count": null,
            "_view_module": "@jupyter-widgets/base",
            "_view_module_version": "1.2.0",
            "_view_name": "LayoutView",
            "align_content": null,
            "align_items": null,
            "align_self": null,
            "border": null,
            "bottom": null,
            "display": null,
            "flex": null,
            "flex_flow": null,
            "grid_area": null,
            "grid_auto_columns": null,
            "grid_auto_flow": null,
            "grid_auto_rows": null,
            "grid_column": null,
            "grid_gap": null,
            "grid_row": null,
            "grid_template_areas": null,
            "grid_template_columns": null,
            "grid_template_rows": null,
            "height": null,
            "justify_content": null,
            "justify_items": null,
            "left": null,
            "margin": null,
            "max_height": null,
            "max_width": null,
            "min_height": null,
            "min_width": null,
            "object_fit": null,
            "object_position": null,
            "order": null,
            "overflow": null,
            "overflow_x": null,
            "overflow_y": null,
            "padding": null,
            "right": null,
            "top": null,
            "visibility": null,
            "width": null
          }
        },
        "011fdefcdf004e18b24344d93e8bf092": {
          "model_module": "@jupyter-widgets/controls",
          "model_name": "DescriptionStyleModel",
          "model_module_version": "1.5.0",
          "state": {
            "_model_module": "@jupyter-widgets/controls",
            "_model_module_version": "1.5.0",
            "_model_name": "DescriptionStyleModel",
            "_view_count": null,
            "_view_module": "@jupyter-widgets/base",
            "_view_module_version": "1.2.0",
            "_view_name": "StyleView",
            "description_width": ""
          }
        },
        "c52c2dbd5a3d4b3ebf84c10acf939adf": {
          "model_module": "@jupyter-widgets/base",
          "model_name": "LayoutModel",
          "model_module_version": "1.2.0",
          "state": {
            "_model_module": "@jupyter-widgets/base",
            "_model_module_version": "1.2.0",
            "_model_name": "LayoutModel",
            "_view_count": null,
            "_view_module": "@jupyter-widgets/base",
            "_view_module_version": "1.2.0",
            "_view_name": "LayoutView",
            "align_content": null,
            "align_items": null,
            "align_self": null,
            "border": null,
            "bottom": null,
            "display": null,
            "flex": null,
            "flex_flow": null,
            "grid_area": null,
            "grid_auto_columns": null,
            "grid_auto_flow": null,
            "grid_auto_rows": null,
            "grid_column": null,
            "grid_gap": null,
            "grid_row": null,
            "grid_template_areas": null,
            "grid_template_columns": null,
            "grid_template_rows": null,
            "height": null,
            "justify_content": null,
            "justify_items": null,
            "left": null,
            "margin": null,
            "max_height": null,
            "max_width": null,
            "min_height": null,
            "min_width": null,
            "object_fit": null,
            "object_position": null,
            "order": null,
            "overflow": null,
            "overflow_x": null,
            "overflow_y": null,
            "padding": null,
            "right": null,
            "top": null,
            "visibility": null,
            "width": null
          }
        },
        "7f6555608f0942e29076ff90e9fd8a6a": {
          "model_module": "@jupyter-widgets/controls",
          "model_name": "ProgressStyleModel",
          "model_module_version": "1.5.0",
          "state": {
            "_model_module": "@jupyter-widgets/controls",
            "_model_module_version": "1.5.0",
            "_model_name": "ProgressStyleModel",
            "_view_count": null,
            "_view_module": "@jupyter-widgets/base",
            "_view_module_version": "1.2.0",
            "_view_name": "StyleView",
            "bar_color": null,
            "description_width": ""
          }
        },
        "5fa20fb77a1c4ae586a3da716b776ed8": {
          "model_module": "@jupyter-widgets/base",
          "model_name": "LayoutModel",
          "model_module_version": "1.2.0",
          "state": {
            "_model_module": "@jupyter-widgets/base",
            "_model_module_version": "1.2.0",
            "_model_name": "LayoutModel",
            "_view_count": null,
            "_view_module": "@jupyter-widgets/base",
            "_view_module_version": "1.2.0",
            "_view_name": "LayoutView",
            "align_content": null,
            "align_items": null,
            "align_self": null,
            "border": null,
            "bottom": null,
            "display": null,
            "flex": null,
            "flex_flow": null,
            "grid_area": null,
            "grid_auto_columns": null,
            "grid_auto_flow": null,
            "grid_auto_rows": null,
            "grid_column": null,
            "grid_gap": null,
            "grid_row": null,
            "grid_template_areas": null,
            "grid_template_columns": null,
            "grid_template_rows": null,
            "height": null,
            "justify_content": null,
            "justify_items": null,
            "left": null,
            "margin": null,
            "max_height": null,
            "max_width": null,
            "min_height": null,
            "min_width": null,
            "object_fit": null,
            "object_position": null,
            "order": null,
            "overflow": null,
            "overflow_x": null,
            "overflow_y": null,
            "padding": null,
            "right": null,
            "top": null,
            "visibility": null,
            "width": null
          }
        },
        "9c58cb98c043491597dbce549ec7d847": {
          "model_module": "@jupyter-widgets/controls",
          "model_name": "DescriptionStyleModel",
          "model_module_version": "1.5.0",
          "state": {
            "_model_module": "@jupyter-widgets/controls",
            "_model_module_version": "1.5.0",
            "_model_name": "DescriptionStyleModel",
            "_view_count": null,
            "_view_module": "@jupyter-widgets/base",
            "_view_module_version": "1.2.0",
            "_view_name": "StyleView",
            "description_width": ""
          }
        },
        "5e4a0b256aa64b1a934f66416981e4ac": {
          "model_module": "@jupyter-widgets/controls",
          "model_name": "HBoxModel",
          "model_module_version": "1.5.0",
          "state": {
            "_dom_classes": [],
            "_model_module": "@jupyter-widgets/controls",
            "_model_module_version": "1.5.0",
            "_model_name": "HBoxModel",
            "_view_count": null,
            "_view_module": "@jupyter-widgets/controls",
            "_view_module_version": "1.5.0",
            "_view_name": "HBoxView",
            "box_style": "",
            "children": [
              "IPY_MODEL_09515152c4b9400d8947185e696fbea6",
              "IPY_MODEL_3f9fc2e196bf4d69b3ff7392ace8d222",
              "IPY_MODEL_d0517abe15da43e682e85697f5024c70"
            ],
            "layout": "IPY_MODEL_3c72b8212a4b4811bf96420cdc1a55e8"
          }
        },
        "09515152c4b9400d8947185e696fbea6": {
          "model_module": "@jupyter-widgets/controls",
          "model_name": "HTMLModel",
          "model_module_version": "1.5.0",
          "state": {
            "_dom_classes": [],
            "_model_module": "@jupyter-widgets/controls",
            "_model_module_version": "1.5.0",
            "_model_name": "HTMLModel",
            "_view_count": null,
            "_view_module": "@jupyter-widgets/controls",
            "_view_module_version": "1.5.0",
            "_view_name": "HTMLView",
            "description": "",
            "description_tooltip": null,
            "layout": "IPY_MODEL_c6add4c6e8214f158916916275beafec",
            "placeholder": "​",
            "style": "IPY_MODEL_6719ad432c424441b9182efcbbcfe262",
            "value": "Downloading: 100%"
          }
        },
        "3f9fc2e196bf4d69b3ff7392ace8d222": {
          "model_module": "@jupyter-widgets/controls",
          "model_name": "FloatProgressModel",
          "model_module_version": "1.5.0",
          "state": {
            "_dom_classes": [],
            "_model_module": "@jupyter-widgets/controls",
            "_model_module_version": "1.5.0",
            "_model_name": "FloatProgressModel",
            "_view_count": null,
            "_view_module": "@jupyter-widgets/controls",
            "_view_module_version": "1.5.0",
            "_view_name": "ProgressView",
            "bar_style": "success",
            "description": "",
            "description_tooltip": null,
            "layout": "IPY_MODEL_9129f512987b498c82a210a45419e56e",
            "max": 483,
            "min": 0,
            "orientation": "horizontal",
            "style": "IPY_MODEL_31172f38207142cfad2d78433b3eedcf",
            "value": 483
          }
        },
        "d0517abe15da43e682e85697f5024c70": {
          "model_module": "@jupyter-widgets/controls",
          "model_name": "HTMLModel",
          "model_module_version": "1.5.0",
          "state": {
            "_dom_classes": [],
            "_model_module": "@jupyter-widgets/controls",
            "_model_module_version": "1.5.0",
            "_model_name": "HTMLModel",
            "_view_count": null,
            "_view_module": "@jupyter-widgets/controls",
            "_view_module_version": "1.5.0",
            "_view_name": "HTMLView",
            "description": "",
            "description_tooltip": null,
            "layout": "IPY_MODEL_e0f2e5fb62d9419eb304d1c748753a85",
            "placeholder": "​",
            "style": "IPY_MODEL_2e8ab543ac8945cf9889282ca448886c",
            "value": " 483/483 [00:00&lt;00:00, 8.66kB/s]"
          }
        },
        "3c72b8212a4b4811bf96420cdc1a55e8": {
          "model_module": "@jupyter-widgets/base",
          "model_name": "LayoutModel",
          "model_module_version": "1.2.0",
          "state": {
            "_model_module": "@jupyter-widgets/base",
            "_model_module_version": "1.2.0",
            "_model_name": "LayoutModel",
            "_view_count": null,
            "_view_module": "@jupyter-widgets/base",
            "_view_module_version": "1.2.0",
            "_view_name": "LayoutView",
            "align_content": null,
            "align_items": null,
            "align_self": null,
            "border": null,
            "bottom": null,
            "display": null,
            "flex": null,
            "flex_flow": null,
            "grid_area": null,
            "grid_auto_columns": null,
            "grid_auto_flow": null,
            "grid_auto_rows": null,
            "grid_column": null,
            "grid_gap": null,
            "grid_row": null,
            "grid_template_areas": null,
            "grid_template_columns": null,
            "grid_template_rows": null,
            "height": null,
            "justify_content": null,
            "justify_items": null,
            "left": null,
            "margin": null,
            "max_height": null,
            "max_width": null,
            "min_height": null,
            "min_width": null,
            "object_fit": null,
            "object_position": null,
            "order": null,
            "overflow": null,
            "overflow_x": null,
            "overflow_y": null,
            "padding": null,
            "right": null,
            "top": null,
            "visibility": null,
            "width": null
          }
        },
        "c6add4c6e8214f158916916275beafec": {
          "model_module": "@jupyter-widgets/base",
          "model_name": "LayoutModel",
          "model_module_version": "1.2.0",
          "state": {
            "_model_module": "@jupyter-widgets/base",
            "_model_module_version": "1.2.0",
            "_model_name": "LayoutModel",
            "_view_count": null,
            "_view_module": "@jupyter-widgets/base",
            "_view_module_version": "1.2.0",
            "_view_name": "LayoutView",
            "align_content": null,
            "align_items": null,
            "align_self": null,
            "border": null,
            "bottom": null,
            "display": null,
            "flex": null,
            "flex_flow": null,
            "grid_area": null,
            "grid_auto_columns": null,
            "grid_auto_flow": null,
            "grid_auto_rows": null,
            "grid_column": null,
            "grid_gap": null,
            "grid_row": null,
            "grid_template_areas": null,
            "grid_template_columns": null,
            "grid_template_rows": null,
            "height": null,
            "justify_content": null,
            "justify_items": null,
            "left": null,
            "margin": null,
            "max_height": null,
            "max_width": null,
            "min_height": null,
            "min_width": null,
            "object_fit": null,
            "object_position": null,
            "order": null,
            "overflow": null,
            "overflow_x": null,
            "overflow_y": null,
            "padding": null,
            "right": null,
            "top": null,
            "visibility": null,
            "width": null
          }
        },
        "6719ad432c424441b9182efcbbcfe262": {
          "model_module": "@jupyter-widgets/controls",
          "model_name": "DescriptionStyleModel",
          "model_module_version": "1.5.0",
          "state": {
            "_model_module": "@jupyter-widgets/controls",
            "_model_module_version": "1.5.0",
            "_model_name": "DescriptionStyleModel",
            "_view_count": null,
            "_view_module": "@jupyter-widgets/base",
            "_view_module_version": "1.2.0",
            "_view_name": "StyleView",
            "description_width": ""
          }
        },
        "9129f512987b498c82a210a45419e56e": {
          "model_module": "@jupyter-widgets/base",
          "model_name": "LayoutModel",
          "model_module_version": "1.2.0",
          "state": {
            "_model_module": "@jupyter-widgets/base",
            "_model_module_version": "1.2.0",
            "_model_name": "LayoutModel",
            "_view_count": null,
            "_view_module": "@jupyter-widgets/base",
            "_view_module_version": "1.2.0",
            "_view_name": "LayoutView",
            "align_content": null,
            "align_items": null,
            "align_self": null,
            "border": null,
            "bottom": null,
            "display": null,
            "flex": null,
            "flex_flow": null,
            "grid_area": null,
            "grid_auto_columns": null,
            "grid_auto_flow": null,
            "grid_auto_rows": null,
            "grid_column": null,
            "grid_gap": null,
            "grid_row": null,
            "grid_template_areas": null,
            "grid_template_columns": null,
            "grid_template_rows": null,
            "height": null,
            "justify_content": null,
            "justify_items": null,
            "left": null,
            "margin": null,
            "max_height": null,
            "max_width": null,
            "min_height": null,
            "min_width": null,
            "object_fit": null,
            "object_position": null,
            "order": null,
            "overflow": null,
            "overflow_x": null,
            "overflow_y": null,
            "padding": null,
            "right": null,
            "top": null,
            "visibility": null,
            "width": null
          }
        },
        "31172f38207142cfad2d78433b3eedcf": {
          "model_module": "@jupyter-widgets/controls",
          "model_name": "ProgressStyleModel",
          "model_module_version": "1.5.0",
          "state": {
            "_model_module": "@jupyter-widgets/controls",
            "_model_module_version": "1.5.0",
            "_model_name": "ProgressStyleModel",
            "_view_count": null,
            "_view_module": "@jupyter-widgets/base",
            "_view_module_version": "1.2.0",
            "_view_name": "StyleView",
            "bar_color": null,
            "description_width": ""
          }
        },
        "e0f2e5fb62d9419eb304d1c748753a85": {
          "model_module": "@jupyter-widgets/base",
          "model_name": "LayoutModel",
          "model_module_version": "1.2.0",
          "state": {
            "_model_module": "@jupyter-widgets/base",
            "_model_module_version": "1.2.0",
            "_model_name": "LayoutModel",
            "_view_count": null,
            "_view_module": "@jupyter-widgets/base",
            "_view_module_version": "1.2.0",
            "_view_name": "LayoutView",
            "align_content": null,
            "align_items": null,
            "align_self": null,
            "border": null,
            "bottom": null,
            "display": null,
            "flex": null,
            "flex_flow": null,
            "grid_area": null,
            "grid_auto_columns": null,
            "grid_auto_flow": null,
            "grid_auto_rows": null,
            "grid_column": null,
            "grid_gap": null,
            "grid_row": null,
            "grid_template_areas": null,
            "grid_template_columns": null,
            "grid_template_rows": null,
            "height": null,
            "justify_content": null,
            "justify_items": null,
            "left": null,
            "margin": null,
            "max_height": null,
            "max_width": null,
            "min_height": null,
            "min_width": null,
            "object_fit": null,
            "object_position": null,
            "order": null,
            "overflow": null,
            "overflow_x": null,
            "overflow_y": null,
            "padding": null,
            "right": null,
            "top": null,
            "visibility": null,
            "width": null
          }
        },
        "2e8ab543ac8945cf9889282ca448886c": {
          "model_module": "@jupyter-widgets/controls",
          "model_name": "DescriptionStyleModel",
          "model_module_version": "1.5.0",
          "state": {
            "_model_module": "@jupyter-widgets/controls",
            "_model_module_version": "1.5.0",
            "_model_name": "DescriptionStyleModel",
            "_view_count": null,
            "_view_module": "@jupyter-widgets/base",
            "_view_module_version": "1.2.0",
            "_view_name": "StyleView",
            "description_width": ""
          }
        },
        "e6aa72be0c894432a94a2c4e9021ab27": {
          "model_module": "@jupyter-widgets/controls",
          "model_name": "HBoxModel",
          "model_module_version": "1.5.0",
          "state": {
            "_dom_classes": [],
            "_model_module": "@jupyter-widgets/controls",
            "_model_module_version": "1.5.0",
            "_model_name": "HBoxModel",
            "_view_count": null,
            "_view_module": "@jupyter-widgets/controls",
            "_view_module_version": "1.5.0",
            "_view_name": "HBoxView",
            "box_style": "",
            "children": [
              "IPY_MODEL_5c37cc68d2d944c3931b228ae71e2391",
              "IPY_MODEL_c2fe1f3296b6408a996cfad9def77863",
              "IPY_MODEL_19931f052e294b729ea499aa7dcd8dbf"
            ],
            "layout": "IPY_MODEL_3e2114d1edf84544a8543f27bf937add"
          }
        },
        "5c37cc68d2d944c3931b228ae71e2391": {
          "model_module": "@jupyter-widgets/controls",
          "model_name": "HTMLModel",
          "model_module_version": "1.5.0",
          "state": {
            "_dom_classes": [],
            "_model_module": "@jupyter-widgets/controls",
            "_model_module_version": "1.5.0",
            "_model_name": "HTMLModel",
            "_view_count": null,
            "_view_module": "@jupyter-widgets/controls",
            "_view_module_version": "1.5.0",
            "_view_name": "HTMLView",
            "description": "",
            "description_tooltip": null,
            "layout": "IPY_MODEL_b1a97a3004eb4bbf85ea7c86cbc01de9",
            "placeholder": "​",
            "style": "IPY_MODEL_1a4c553ed26c4fff83ffad5d7cf2b9f9",
            "value": "Downloading: 100%"
          }
        },
        "c2fe1f3296b6408a996cfad9def77863": {
          "model_module": "@jupyter-widgets/controls",
          "model_name": "FloatProgressModel",
          "model_module_version": "1.5.0",
          "state": {
            "_dom_classes": [],
            "_model_module": "@jupyter-widgets/controls",
            "_model_module_version": "1.5.0",
            "_model_name": "FloatProgressModel",
            "_view_count": null,
            "_view_module": "@jupyter-widgets/controls",
            "_view_module_version": "1.5.0",
            "_view_name": "ProgressView",
            "bar_style": "success",
            "description": "",
            "description_tooltip": null,
            "layout": "IPY_MODEL_f7d3a45bed9f4dbd8c82c3aecfd1e2ed",
            "max": 267967963,
            "min": 0,
            "orientation": "horizontal",
            "style": "IPY_MODEL_8d82bd87fd084fba816f7a186cfeff5f",
            "value": 267967963
          }
        },
        "19931f052e294b729ea499aa7dcd8dbf": {
          "model_module": "@jupyter-widgets/controls",
          "model_name": "HTMLModel",
          "model_module_version": "1.5.0",
          "state": {
            "_dom_classes": [],
            "_model_module": "@jupyter-widgets/controls",
            "_model_module_version": "1.5.0",
            "_model_name": "HTMLModel",
            "_view_count": null,
            "_view_module": "@jupyter-widgets/controls",
            "_view_module_version": "1.5.0",
            "_view_name": "HTMLView",
            "description": "",
            "description_tooltip": null,
            "layout": "IPY_MODEL_041bc02d12aa467991a3a4754575e270",
            "placeholder": "​",
            "style": "IPY_MODEL_d78270b0da1948bab222513ca2c0f434",
            "value": " 268M/268M [00:15&lt;00:00, 28.6MB/s]"
          }
        },
        "3e2114d1edf84544a8543f27bf937add": {
          "model_module": "@jupyter-widgets/base",
          "model_name": "LayoutModel",
          "model_module_version": "1.2.0",
          "state": {
            "_model_module": "@jupyter-widgets/base",
            "_model_module_version": "1.2.0",
            "_model_name": "LayoutModel",
            "_view_count": null,
            "_view_module": "@jupyter-widgets/base",
            "_view_module_version": "1.2.0",
            "_view_name": "LayoutView",
            "align_content": null,
            "align_items": null,
            "align_self": null,
            "border": null,
            "bottom": null,
            "display": null,
            "flex": null,
            "flex_flow": null,
            "grid_area": null,
            "grid_auto_columns": null,
            "grid_auto_flow": null,
            "grid_auto_rows": null,
            "grid_column": null,
            "grid_gap": null,
            "grid_row": null,
            "grid_template_areas": null,
            "grid_template_columns": null,
            "grid_template_rows": null,
            "height": null,
            "justify_content": null,
            "justify_items": null,
            "left": null,
            "margin": null,
            "max_height": null,
            "max_width": null,
            "min_height": null,
            "min_width": null,
            "object_fit": null,
            "object_position": null,
            "order": null,
            "overflow": null,
            "overflow_x": null,
            "overflow_y": null,
            "padding": null,
            "right": null,
            "top": null,
            "visibility": null,
            "width": null
          }
        },
        "b1a97a3004eb4bbf85ea7c86cbc01de9": {
          "model_module": "@jupyter-widgets/base",
          "model_name": "LayoutModel",
          "model_module_version": "1.2.0",
          "state": {
            "_model_module": "@jupyter-widgets/base",
            "_model_module_version": "1.2.0",
            "_model_name": "LayoutModel",
            "_view_count": null,
            "_view_module": "@jupyter-widgets/base",
            "_view_module_version": "1.2.0",
            "_view_name": "LayoutView",
            "align_content": null,
            "align_items": null,
            "align_self": null,
            "border": null,
            "bottom": null,
            "display": null,
            "flex": null,
            "flex_flow": null,
            "grid_area": null,
            "grid_auto_columns": null,
            "grid_auto_flow": null,
            "grid_auto_rows": null,
            "grid_column": null,
            "grid_gap": null,
            "grid_row": null,
            "grid_template_areas": null,
            "grid_template_columns": null,
            "grid_template_rows": null,
            "height": null,
            "justify_content": null,
            "justify_items": null,
            "left": null,
            "margin": null,
            "max_height": null,
            "max_width": null,
            "min_height": null,
            "min_width": null,
            "object_fit": null,
            "object_position": null,
            "order": null,
            "overflow": null,
            "overflow_x": null,
            "overflow_y": null,
            "padding": null,
            "right": null,
            "top": null,
            "visibility": null,
            "width": null
          }
        },
        "1a4c553ed26c4fff83ffad5d7cf2b9f9": {
          "model_module": "@jupyter-widgets/controls",
          "model_name": "DescriptionStyleModel",
          "model_module_version": "1.5.0",
          "state": {
            "_model_module": "@jupyter-widgets/controls",
            "_model_module_version": "1.5.0",
            "_model_name": "DescriptionStyleModel",
            "_view_count": null,
            "_view_module": "@jupyter-widgets/base",
            "_view_module_version": "1.2.0",
            "_view_name": "StyleView",
            "description_width": ""
          }
        },
        "f7d3a45bed9f4dbd8c82c3aecfd1e2ed": {
          "model_module": "@jupyter-widgets/base",
          "model_name": "LayoutModel",
          "model_module_version": "1.2.0",
          "state": {
            "_model_module": "@jupyter-widgets/base",
            "_model_module_version": "1.2.0",
            "_model_name": "LayoutModel",
            "_view_count": null,
            "_view_module": "@jupyter-widgets/base",
            "_view_module_version": "1.2.0",
            "_view_name": "LayoutView",
            "align_content": null,
            "align_items": null,
            "align_self": null,
            "border": null,
            "bottom": null,
            "display": null,
            "flex": null,
            "flex_flow": null,
            "grid_area": null,
            "grid_auto_columns": null,
            "grid_auto_flow": null,
            "grid_auto_rows": null,
            "grid_column": null,
            "grid_gap": null,
            "grid_row": null,
            "grid_template_areas": null,
            "grid_template_columns": null,
            "grid_template_rows": null,
            "height": null,
            "justify_content": null,
            "justify_items": null,
            "left": null,
            "margin": null,
            "max_height": null,
            "max_width": null,
            "min_height": null,
            "min_width": null,
            "object_fit": null,
            "object_position": null,
            "order": null,
            "overflow": null,
            "overflow_x": null,
            "overflow_y": null,
            "padding": null,
            "right": null,
            "top": null,
            "visibility": null,
            "width": null
          }
        },
        "8d82bd87fd084fba816f7a186cfeff5f": {
          "model_module": "@jupyter-widgets/controls",
          "model_name": "ProgressStyleModel",
          "model_module_version": "1.5.0",
          "state": {
            "_model_module": "@jupyter-widgets/controls",
            "_model_module_version": "1.5.0",
            "_model_name": "ProgressStyleModel",
            "_view_count": null,
            "_view_module": "@jupyter-widgets/base",
            "_view_module_version": "1.2.0",
            "_view_name": "StyleView",
            "bar_color": null,
            "description_width": ""
          }
        },
        "041bc02d12aa467991a3a4754575e270": {
          "model_module": "@jupyter-widgets/base",
          "model_name": "LayoutModel",
          "model_module_version": "1.2.0",
          "state": {
            "_model_module": "@jupyter-widgets/base",
            "_model_module_version": "1.2.0",
            "_model_name": "LayoutModel",
            "_view_count": null,
            "_view_module": "@jupyter-widgets/base",
            "_view_module_version": "1.2.0",
            "_view_name": "LayoutView",
            "align_content": null,
            "align_items": null,
            "align_self": null,
            "border": null,
            "bottom": null,
            "display": null,
            "flex": null,
            "flex_flow": null,
            "grid_area": null,
            "grid_auto_columns": null,
            "grid_auto_flow": null,
            "grid_auto_rows": null,
            "grid_column": null,
            "grid_gap": null,
            "grid_row": null,
            "grid_template_areas": null,
            "grid_template_columns": null,
            "grid_template_rows": null,
            "height": null,
            "justify_content": null,
            "justify_items": null,
            "left": null,
            "margin": null,
            "max_height": null,
            "max_width": null,
            "min_height": null,
            "min_width": null,
            "object_fit": null,
            "object_position": null,
            "order": null,
            "overflow": null,
            "overflow_x": null,
            "overflow_y": null,
            "padding": null,
            "right": null,
            "top": null,
            "visibility": null,
            "width": null
          }
        },
        "d78270b0da1948bab222513ca2c0f434": {
          "model_module": "@jupyter-widgets/controls",
          "model_name": "DescriptionStyleModel",
          "model_module_version": "1.5.0",
          "state": {
            "_model_module": "@jupyter-widgets/controls",
            "_model_module_version": "1.5.0",
            "_model_name": "DescriptionStyleModel",
            "_view_count": null,
            "_view_module": "@jupyter-widgets/base",
            "_view_module_version": "1.2.0",
            "_view_name": "StyleView",
            "description_width": ""
          }
        }
      }
    }
  },
  "cells": [
    {
      "cell_type": "markdown",
      "metadata": {
        "id": "view-in-github",
        "colab_type": "text"
      },
      "source": [
        "<a href=\"https://colab.research.google.com/github/tcmb1987/EE274-lossy-text-compression/blob/main/mech_test.ipynb\" target=\"_parent\"><img src=\"https://colab.research.google.com/assets/colab-badge.svg\" alt=\"Open In Colab\"/></a>"
      ]
    },
    {
      "cell_type": "code",
      "source": [
        "!pip install sent2vec\n",
        "!pip install zstd"
      ],
      "metadata": {
        "colab": {
          "base_uri": "https://localhost:8080/"
        },
        "id": "jYzjygoP0laS",
        "outputId": "514a0e87-e188-4dd2-9c22-52c2beee2d79"
      },
      "execution_count": null,
      "outputs": [
        {
          "output_type": "stream",
          "name": "stdout",
          "text": [
            "Looking in indexes: https://pypi.org/simple, https://us-python.pkg.dev/colab-wheels/public/simple/\n",
            "Collecting sent2vec\n",
            "  Downloading sent2vec-0.3.0-py3-none-any.whl (8.1 kB)\n",
            "Requirement already satisfied: spacy in /usr/local/lib/python3.8/dist-packages (from sent2vec) (3.4.3)\n",
            "Collecting transformers\n",
            "  Downloading transformers-4.25.1-py3-none-any.whl (5.8 MB)\n",
            "\u001b[K     |████████████████████████████████| 5.8 MB 6.9 MB/s \n",
            "\u001b[?25hRequirement already satisfied: torch in /usr/local/lib/python3.8/dist-packages (from sent2vec) (1.13.0+cu116)\n",
            "Requirement already satisfied: pytest in /usr/local/lib/python3.8/dist-packages (from sent2vec) (3.6.4)\n",
            "Requirement already satisfied: gensim in /usr/local/lib/python3.8/dist-packages (from sent2vec) (3.6.0)\n",
            "Requirement already satisfied: numpy in /usr/local/lib/python3.8/dist-packages (from sent2vec) (1.21.6)\n",
            "Requirement already satisfied: scipy>=0.18.1 in /usr/local/lib/python3.8/dist-packages (from gensim->sent2vec) (1.7.3)\n",
            "Requirement already satisfied: six>=1.5.0 in /usr/local/lib/python3.8/dist-packages (from gensim->sent2vec) (1.15.0)\n",
            "Requirement already satisfied: smart-open>=1.2.1 in /usr/local/lib/python3.8/dist-packages (from gensim->sent2vec) (5.2.1)\n",
            "Requirement already satisfied: attrs>=17.4.0 in /usr/local/lib/python3.8/dist-packages (from pytest->sent2vec) (22.1.0)\n",
            "Requirement already satisfied: setuptools in /usr/local/lib/python3.8/dist-packages (from pytest->sent2vec) (57.4.0)\n",
            "Requirement already satisfied: atomicwrites>=1.0 in /usr/local/lib/python3.8/dist-packages (from pytest->sent2vec) (1.4.1)\n",
            "Requirement already satisfied: pluggy<0.8,>=0.5 in /usr/local/lib/python3.8/dist-packages (from pytest->sent2vec) (0.7.1)\n",
            "Requirement already satisfied: more-itertools>=4.0.0 in /usr/local/lib/python3.8/dist-packages (from pytest->sent2vec) (9.0.0)\n",
            "Requirement already satisfied: py>=1.5.0 in /usr/local/lib/python3.8/dist-packages (from pytest->sent2vec) (1.11.0)\n",
            "Requirement already satisfied: tqdm<5.0.0,>=4.38.0 in /usr/local/lib/python3.8/dist-packages (from spacy->sent2vec) (4.64.1)\n",
            "Requirement already satisfied: wasabi<1.1.0,>=0.9.1 in /usr/local/lib/python3.8/dist-packages (from spacy->sent2vec) (0.10.1)\n",
            "Requirement already satisfied: langcodes<4.0.0,>=3.2.0 in /usr/local/lib/python3.8/dist-packages (from spacy->sent2vec) (3.3.0)\n",
            "Requirement already satisfied: pathy>=0.3.5 in /usr/local/lib/python3.8/dist-packages (from spacy->sent2vec) (0.10.0)\n",
            "Requirement already satisfied: srsly<3.0.0,>=2.4.3 in /usr/local/lib/python3.8/dist-packages (from spacy->sent2vec) (2.4.5)\n",
            "Requirement already satisfied: packaging>=20.0 in /usr/local/lib/python3.8/dist-packages (from spacy->sent2vec) (21.3)\n",
            "Requirement already satisfied: typer<0.8.0,>=0.3.0 in /usr/local/lib/python3.8/dist-packages (from spacy->sent2vec) (0.7.0)\n",
            "Requirement already satisfied: requests<3.0.0,>=2.13.0 in /usr/local/lib/python3.8/dist-packages (from spacy->sent2vec) (2.23.0)\n",
            "Requirement already satisfied: cymem<2.1.0,>=2.0.2 in /usr/local/lib/python3.8/dist-packages (from spacy->sent2vec) (2.0.7)\n",
            "Requirement already satisfied: jinja2 in /usr/local/lib/python3.8/dist-packages (from spacy->sent2vec) (2.11.3)\n",
            "Requirement already satisfied: preshed<3.1.0,>=3.0.2 in /usr/local/lib/python3.8/dist-packages (from spacy->sent2vec) (3.0.8)\n",
            "Requirement already satisfied: pydantic!=1.8,!=1.8.1,<1.11.0,>=1.7.4 in /usr/local/lib/python3.8/dist-packages (from spacy->sent2vec) (1.10.2)\n",
            "Requirement already satisfied: catalogue<2.1.0,>=2.0.6 in /usr/local/lib/python3.8/dist-packages (from spacy->sent2vec) (2.0.8)\n",
            "Requirement already satisfied: spacy-legacy<3.1.0,>=3.0.10 in /usr/local/lib/python3.8/dist-packages (from spacy->sent2vec) (3.0.10)\n",
            "Requirement already satisfied: thinc<8.2.0,>=8.1.0 in /usr/local/lib/python3.8/dist-packages (from spacy->sent2vec) (8.1.5)\n",
            "Requirement already satisfied: murmurhash<1.1.0,>=0.28.0 in /usr/local/lib/python3.8/dist-packages (from spacy->sent2vec) (1.0.9)\n",
            "Requirement already satisfied: spacy-loggers<2.0.0,>=1.0.0 in /usr/local/lib/python3.8/dist-packages (from spacy->sent2vec) (1.0.3)\n",
            "Requirement already satisfied: pyparsing!=3.0.5,>=2.0.2 in /usr/local/lib/python3.8/dist-packages (from packaging>=20.0->spacy->sent2vec) (3.0.9)\n",
            "Requirement already satisfied: typing-extensions>=4.1.0 in /usr/local/lib/python3.8/dist-packages (from pydantic!=1.8,!=1.8.1,<1.11.0,>=1.7.4->spacy->sent2vec) (4.4.0)\n",
            "Requirement already satisfied: certifi>=2017.4.17 in /usr/local/lib/python3.8/dist-packages (from requests<3.0.0,>=2.13.0->spacy->sent2vec) (2022.9.24)\n",
            "Requirement already satisfied: chardet<4,>=3.0.2 in /usr/local/lib/python3.8/dist-packages (from requests<3.0.0,>=2.13.0->spacy->sent2vec) (3.0.4)\n",
            "Requirement already satisfied: idna<3,>=2.5 in /usr/local/lib/python3.8/dist-packages (from requests<3.0.0,>=2.13.0->spacy->sent2vec) (2.10)\n",
            "Requirement already satisfied: urllib3!=1.25.0,!=1.25.1,<1.26,>=1.21.1 in /usr/local/lib/python3.8/dist-packages (from requests<3.0.0,>=2.13.0->spacy->sent2vec) (1.24.3)\n",
            "Requirement already satisfied: blis<0.8.0,>=0.7.8 in /usr/local/lib/python3.8/dist-packages (from thinc<8.2.0,>=8.1.0->spacy->sent2vec) (0.7.9)\n",
            "Requirement already satisfied: confection<1.0.0,>=0.0.1 in /usr/local/lib/python3.8/dist-packages (from thinc<8.2.0,>=8.1.0->spacy->sent2vec) (0.0.3)\n",
            "Requirement already satisfied: click<9.0.0,>=7.1.1 in /usr/local/lib/python3.8/dist-packages (from typer<0.8.0,>=0.3.0->spacy->sent2vec) (7.1.2)\n",
            "Requirement already satisfied: MarkupSafe>=0.23 in /usr/local/lib/python3.8/dist-packages (from jinja2->spacy->sent2vec) (2.0.1)\n",
            "Requirement already satisfied: pyyaml>=5.1 in /usr/local/lib/python3.8/dist-packages (from transformers->sent2vec) (6.0)\n",
            "Requirement already satisfied: regex!=2019.12.17 in /usr/local/lib/python3.8/dist-packages (from transformers->sent2vec) (2022.6.2)\n",
            "Collecting huggingface-hub<1.0,>=0.10.0\n",
            "  Downloading huggingface_hub-0.11.1-py3-none-any.whl (182 kB)\n",
            "\u001b[K     |████████████████████████████████| 182 kB 44.6 MB/s \n",
            "\u001b[?25hCollecting tokenizers!=0.11.3,<0.14,>=0.11.1\n",
            "  Downloading tokenizers-0.13.2-cp38-cp38-manylinux_2_17_x86_64.manylinux2014_x86_64.whl (7.6 MB)\n",
            "\u001b[K     |████████████████████████████████| 7.6 MB 48.6 MB/s \n",
            "\u001b[?25hRequirement already satisfied: filelock in /usr/local/lib/python3.8/dist-packages (from transformers->sent2vec) (3.8.0)\n",
            "Installing collected packages: tokenizers, huggingface-hub, transformers, sent2vec\n",
            "Successfully installed huggingface-hub-0.11.1 sent2vec-0.3.0 tokenizers-0.13.2 transformers-4.25.1\n",
            "Looking in indexes: https://pypi.org/simple, https://us-python.pkg.dev/colab-wheels/public/simple/\n",
            "Collecting zstd\n",
            "  Downloading zstd-1.5.2.6-cp38-cp38-manylinux_2_17_x86_64.manylinux2014_x86_64.whl (1.7 MB)\n",
            "\u001b[K     |████████████████████████████████| 1.7 MB 8.6 MB/s \n",
            "\u001b[?25hInstalling collected packages: zstd\n",
            "Successfully installed zstd-1.5.2.6\n"
          ]
        }
      ]
    },
    {
      "cell_type": "code",
      "execution_count": null,
      "metadata": {
        "colab": {
          "base_uri": "https://localhost:8080/"
        },
        "id": "m_I1ZqFGtg2D",
        "outputId": "24b088b6-12d3-4c8d-d36d-ad47fcd295aa"
      },
      "outputs": [
        {
          "output_type": "stream",
          "name": "stderr",
          "text": [
            "/usr/local/lib/python3.8/dist-packages/torch/cuda/__init__.py:497: UserWarning: Can't initialize NVML\n",
            "  warnings.warn(\"Can't initialize NVML\")\n",
            "[nltk_data] Downloading package stopwords to /root/nltk_data...\n",
            "[nltk_data]   Unzipping corpora/stopwords.zip.\n",
            "[nltk_data] Downloading package words to /root/nltk_data...\n",
            "[nltk_data]   Unzipping corpora/words.zip.\n",
            "[nltk_data] Downloading package punkt to /root/nltk_data...\n",
            "[nltk_data]   Unzipping tokenizers/punkt.zip.\n"
          ]
        },
        {
          "output_type": "execute_result",
          "data": {
            "text/plain": [
              "True"
            ]
          },
          "metadata": {},
          "execution_count": 4
        }
      ],
      "source": [
        "import re\n",
        "import nltk\n",
        "from nltk.corpus import stopwords\n",
        "from nltk.tokenize import word_tokenize, sent_tokenize\n",
        "import string\n",
        "from urllib import request\n",
        "from bs4 import BeautifulSoup\n",
        "from sent2vec.vectorizer import Vectorizer\n",
        "import numpy as np\n",
        "from scipy.spatial import distance\n",
        "import matplotlib.pyplot as plt\n",
        "import sys\n",
        "import gzip\n",
        "import zstd\n",
        "nltk.download('stopwords')\n",
        "nltk.download('words')\n",
        "nltk.download('punkt')"
      ]
    },
    {
      "cell_type": "markdown",
      "source": [
        "## Excerpt 1: From the Book of Genesis from the King James Bible"
      ],
      "metadata": {
        "id": "j8q_eAkZC3Av"
      }
    },
    {
      "cell_type": "code",
      "source": [
        "url = \"https://www.gutenberg.org/cache/epub/10/pg10.txt\"\n",
        "sentences = []\n",
        "words = set(nltk.corpus.words.words())\n",
        "\n",
        "response = request.urlopen(url)\n",
        "soup = BeautifulSoup(response, features=\"html.parser\")\n",
        "text = soup.get_text()\n",
        "sentences += sent_tokenize(text)\n",
        "\n",
        "# Strip random symbols/non-English\n",
        "sentences = list(filter(lambda ele: re.search(\"[a-zA-Z\\s]+\", ele) is not None, sentences))\n",
        "sentences = [sentence.replace(\"\\r\", \"\") for sentence in sentences]\n",
        "sentences = [sentence.replace(\"\\n\", \" \") for sentence in sentences]\n",
        "sentences = [sentence.replace(\":\", \"\") for sentence in sentences]\n",
        "# sentences = [re.sub(r'[^\\w\\s]', '', sentence) for sentence in sentences]\n",
        "sentences = [\"\".join(i for i in s if not i.isdigit()) for s in sentences]\n",
        "sentences = sentences[4:]\n",
        "sentences = [s for s in sentences if not len(s) > 512]\n",
        "\n",
        "stop_words = set(stopwords.words('english'))\n",
        "  \n",
        "def prune_sentence(sentence, stop_words):\n",
        "    word_tokens = word_tokenize(sentence)\n",
        "    return ' '.join([w for w in word_tokens if not w.lower() in stop_words and not w.lower() in string.punctuation]) \n",
        "\n",
        "pruned_sentences = [prune_sentence(sentence, stop_words) for sentence in sentences]"
      ],
      "metadata": {
        "id": "s_HU-3fC6K6P"
      },
      "execution_count": null,
      "outputs": []
    },
    {
      "cell_type": "code",
      "source": [
        "original_text = ' '.join(sentences)\n",
        "pruned_text = ' '.join(pruned_sentences)\n",
        "original_size = (sys.getsizeof(original_text) / 1024)\n",
        "pruned_size = (sys.getsizeof(pruned_text) / 1024)\n",
        "\n",
        "print(\"Uncompressed size of original text is %.2f KB.\" % original_size)\n",
        "print(\"Uncompressed size of pruned text is %.2f KB.\" % pruned_size)\n",
        "print(\"Pruned text is %.1f%% size of original text.\\n\" % (pruned_size/original_size*100))\n",
        "\n",
        "original_compressed = gzip.compress(bytes(original_text, 'utf-8'))\n",
        "pruned_compressed = gzip.compress(bytes(pruned_text, 'utf-8'))\n",
        "original_size = (sys.getsizeof(original_compressed) / 1024)\n",
        "pruned_size = (sys.getsizeof(pruned_compressed) / 1024)\n",
        "\n",
        "print(\"Compressed size of original text using gzip is %.2f KB.\" % original_size)\n",
        "print(\"Compressed size of pruned text using gzip is %.2f KB.\" % pruned_size)\n",
        "print(\"Pruned text compresses to %.1f%% size of compressed original text.\\n\" % (pruned_size/original_size*100))\n",
        "\n",
        "original_compressed = zstd.compress(bytes(original_text, 'utf-8'), 22)\n",
        "pruned_compressed = zstd.compress(bytes(pruned_text, 'utf-8'), 22)\n",
        "original_size = (sys.getsizeof(original_compressed) / 1024)\n",
        "pruned_size = (sys.getsizeof(pruned_compressed) / 1024)\n",
        "\n",
        "print(\"Compressed size of original text using zstd level 22 is %.2f KB.\" % original_size)\n",
        "print(\"Compressed size of pruned text using zstd level 22 is %.2f KB.\" % pruned_size)\n",
        "print(\"Pruned text compresses to %.1f%% size of compressed original text.\" % (pruned_size/original_size*100))"
      ],
      "metadata": {
        "id": "-7BQ1vZUQ-ho",
        "outputId": "955eb94b-2d05-4a99-aa52-0786f7a46770",
        "colab": {
          "base_uri": "https://localhost:8080/"
        }
      },
      "execution_count": null,
      "outputs": [
        {
          "output_type": "stream",
          "name": "stdout",
          "text": [
            "Uncompressed size of original text is 7742.31 KB.\n",
            "Uncompressed size of pruned text is 4440.13 KB.\n",
            "Pruned text is 57.3% size of original text.\n",
            "\n",
            "Compressed size of original text using gzip is 1126.90 KB.\n",
            "Compressed size of pruned text using gzip is 678.99 KB.\n",
            "Pruned text compresses to 60.3% size of compressed original text.\n",
            "\n",
            "Compressed size of original text using zstd level 22 is 853.40 KB.\n",
            "Compressed size of pruned text using zstd level 22 is 541.40 KB.\n",
            "Pruned text compresses to 63.4% size of compressed original text.\n"
          ]
        }
      ]
    },
    {
      "cell_type": "code",
      "source": [
        "sentences_1 = sentences[170:174]\n",
        "sentences_1"
      ],
      "metadata": {
        "colab": {
          "base_uri": "https://localhost:8080/"
        },
        "id": "GvGLMOxf0EB4",
        "outputId": "471d17cf-7e2b-462c-823e-c6696c4f3f98"
      },
      "execution_count": null,
      "outputs": [
        {
          "output_type": "execute_result",
          "data": {
            "text/plain": [
              "[' And it came to pass in the six hundredth and first year, in the first month, the first day of the month, the waters were dried up from off the earth and Noah removed the covering of the ark, and looked, and, behold, the face of the ground was dry.',\n",
              " ' And in the second month, on the seven and twentieth day of the month, was the earth dried.',\n",
              " ' And God spake unto Noah, saying,  Go forth of the ark, thou, and thy wife, and thy sons, and thy sons’ wives with thee.',\n",
              " ' Bring forth with thee every living thing that is with thee, of all flesh, both of fowl, and of cattle, and of every creeping thing that creepeth upon the earth; that they may breed abundantly in the earth, and be fruitful, and multiply upon the earth.']"
            ]
          },
          "metadata": {},
          "execution_count": 7
        }
      ]
    },
    {
      "cell_type": "code",
      "source": [
        "original_vectorizer = Vectorizer()\n",
        "original_vectorizer.run(sentences_1)\n",
        "original_sentence_vectors = original_vectorizer.vectors"
      ],
      "metadata": {
        "colab": {
          "base_uri": "https://localhost:8080/",
          "height": 252,
          "referenced_widgets": [
            "d7d27a9c5f714943858af9676b5a5af6",
            "53efd577f368413a8081ca513802e176",
            "9dce349676be46278d9b399f7939f021",
            "20e231f066f34f48a08fe52f866b542d",
            "2f4d0e955cd24799b4a52a11fa4f4361",
            "a72f0d05e7204258a2ac8e28a43a1e6f",
            "3df6aad574fa4008844ea851833c6b2c",
            "f6c00da67eff4fd5b6c8323d5eb8b0f8",
            "982c3add84814321ac5f5cea9452879b",
            "3b842acbc77746db84d6fc0235af08dd",
            "bd692a1b6b264e2db6be0778a39ceca5",
            "49d3d244a1304781a5471f1bd8a7a1cb",
            "e1253346c4864f70a1ecb7ed9a81ff84",
            "76402aeb022a479b8523e30be39806b4",
            "47a517f73a84469293e656884904c36c",
            "8817bf78eb8349ca966c5b970b4260a2",
            "cd281e81c4e546c08757f57de4e2e2af",
            "011fdefcdf004e18b24344d93e8bf092",
            "c52c2dbd5a3d4b3ebf84c10acf939adf",
            "7f6555608f0942e29076ff90e9fd8a6a",
            "5fa20fb77a1c4ae586a3da716b776ed8",
            "9c58cb98c043491597dbce549ec7d847",
            "5e4a0b256aa64b1a934f66416981e4ac",
            "09515152c4b9400d8947185e696fbea6",
            "3f9fc2e196bf4d69b3ff7392ace8d222",
            "d0517abe15da43e682e85697f5024c70",
            "3c72b8212a4b4811bf96420cdc1a55e8",
            "c6add4c6e8214f158916916275beafec",
            "6719ad432c424441b9182efcbbcfe262",
            "9129f512987b498c82a210a45419e56e",
            "31172f38207142cfad2d78433b3eedcf",
            "e0f2e5fb62d9419eb304d1c748753a85",
            "2e8ab543ac8945cf9889282ca448886c",
            "e6aa72be0c894432a94a2c4e9021ab27",
            "5c37cc68d2d944c3931b228ae71e2391",
            "c2fe1f3296b6408a996cfad9def77863",
            "19931f052e294b729ea499aa7dcd8dbf",
            "3e2114d1edf84544a8543f27bf937add",
            "b1a97a3004eb4bbf85ea7c86cbc01de9",
            "1a4c553ed26c4fff83ffad5d7cf2b9f9",
            "f7d3a45bed9f4dbd8c82c3aecfd1e2ed",
            "8d82bd87fd084fba816f7a186cfeff5f",
            "041bc02d12aa467991a3a4754575e270",
            "d78270b0da1948bab222513ca2c0f434"
          ]
        },
        "id": "WxpuARr69-YC",
        "outputId": "a760ed63-a324-4a17-faf6-0e934987bbc1"
      },
      "execution_count": null,
      "outputs": [
        {
          "output_type": "stream",
          "name": "stdout",
          "text": [
            "Initializing Bert distilbert-base-uncased\n",
            "Vectorization done on cpu\n"
          ]
        },
        {
          "output_type": "display_data",
          "data": {
            "text/plain": [
              "Downloading:   0%|          | 0.00/232k [00:00<?, ?B/s]"
            ],
            "application/vnd.jupyter.widget-view+json": {
              "version_major": 2,
              "version_minor": 0,
              "model_id": "d7d27a9c5f714943858af9676b5a5af6"
            }
          },
          "metadata": {}
        },
        {
          "output_type": "display_data",
          "data": {
            "text/plain": [
              "Downloading:   0%|          | 0.00/28.0 [00:00<?, ?B/s]"
            ],
            "application/vnd.jupyter.widget-view+json": {
              "version_major": 2,
              "version_minor": 0,
              "model_id": "49d3d244a1304781a5471f1bd8a7a1cb"
            }
          },
          "metadata": {}
        },
        {
          "output_type": "display_data",
          "data": {
            "text/plain": [
              "Downloading:   0%|          | 0.00/483 [00:00<?, ?B/s]"
            ],
            "application/vnd.jupyter.widget-view+json": {
              "version_major": 2,
              "version_minor": 0,
              "model_id": "5e4a0b256aa64b1a934f66416981e4ac"
            }
          },
          "metadata": {}
        },
        {
          "output_type": "display_data",
          "data": {
            "text/plain": [
              "Downloading:   0%|          | 0.00/268M [00:00<?, ?B/s]"
            ],
            "application/vnd.jupyter.widget-view+json": {
              "version_major": 2,
              "version_minor": 0,
              "model_id": "e6aa72be0c894432a94a2c4e9021ab27"
            }
          },
          "metadata": {}
        },
        {
          "output_type": "stream",
          "name": "stderr",
          "text": [
            "Some weights of the model checkpoint at distilbert-base-uncased were not used when initializing DistilBertModel: ['vocab_projector.weight', 'vocab_transform.weight', 'vocab_transform.bias', 'vocab_projector.bias', 'vocab_layer_norm.bias', 'vocab_layer_norm.weight']\n",
            "- This IS expected if you are initializing DistilBertModel from the checkpoint of a model trained on another task or with another architecture (e.g. initializing a BertForSequenceClassification model from a BertForPreTraining model).\n",
            "- This IS NOT expected if you are initializing DistilBertModel from the checkpoint of a model that you expect to be exactly identical (initializing a BertForSequenceClassification model from a BertForSequenceClassification model).\n"
          ]
        }
      ]
    },
    {
      "cell_type": "code",
      "source": [
        "shorts_1 = pruned_sentences[170:174]\n",
        "shorts_1"
      ],
      "metadata": {
        "colab": {
          "base_uri": "https://localhost:8080/"
        },
        "id": "bkhJQvlX1qLI",
        "outputId": "f553e791-d9c6-4401-d5da-abe1249d4b8f"
      },
      "execution_count": null,
      "outputs": [
        {
          "output_type": "execute_result",
          "data": {
            "text/plain": [
              "['came pass six hundredth first year first month first day month waters dried earth Noah removed covering ark looked behold face ground dry',\n",
              " 'second month seven twentieth day month earth dried',\n",
              " 'God spake unto Noah saying Go forth ark thou thy wife thy sons thy sons ’ wives thee',\n",
              " 'Bring forth thee every living thing thee flesh fowl cattle every creeping thing creepeth upon earth may breed abundantly earth fruitful multiply upon earth']"
            ]
          },
          "metadata": {},
          "execution_count": 9
        }
      ]
    },
    {
      "cell_type": "code",
      "source": [
        "short_vectorizer = Vectorizer()\n",
        "short_vectorizer.run(shorts_1)\n",
        "short_sentence_vectors = short_vectorizer.vectors"
      ],
      "metadata": {
        "colab": {
          "base_uri": "https://localhost:8080/"
        },
        "outputId": "76d7c8b6-963b-4949-c6a4-6aa665f8db0d",
        "id": "5t83QSwNw9mt"
      },
      "execution_count": null,
      "outputs": [
        {
          "output_type": "stream",
          "name": "stdout",
          "text": [
            "Initializing Bert distilbert-base-uncased\n",
            "Vectorization done on cpu\n"
          ]
        },
        {
          "output_type": "stream",
          "name": "stderr",
          "text": [
            "Some weights of the model checkpoint at distilbert-base-uncased were not used when initializing DistilBertModel: ['vocab_projector.weight', 'vocab_transform.weight', 'vocab_transform.bias', 'vocab_projector.bias', 'vocab_layer_norm.bias', 'vocab_layer_norm.weight']\n",
            "- This IS expected if you are initializing DistilBertModel from the checkpoint of a model trained on another task or with another architecture (e.g. initializing a BertForSequenceClassification model from a BertForPreTraining model).\n",
            "- This IS NOT expected if you are initializing DistilBertModel from the checkpoint of a model that you expect to be exactly identical (initializing a BertForSequenceClassification model from a BertForSequenceClassification model).\n"
          ]
        }
      ]
    },
    {
      "cell_type": "code",
      "source": [
        "reconstructed_1 = ['And it came to pass, that on the six hundredth and first year, in the first month, on the first day of the month, the waters dried on the earth and Noah removed the covering of the ark and looked to behold that the face of the ground was dry.', 'In the second month, on the seven and twentieth day of the month the earth was dried.', 'And God spake unto Noah saying, “Go forth from the ark thou, and thy wife, and thy sons, and thy sons ’ wives with thee', 'Bring forth with thee every living thing and with thee every flesh, and fowl, and cattle, and every creeping thing that creepeth upon the earth that they may breed abundantly so that the earth will be fruitful and multiply upon the earth.']\n",
        "reconstructed_1"
      ],
      "metadata": {
        "colab": {
          "base_uri": "https://localhost:8080/"
        },
        "id": "lKahDMFz9ijZ",
        "outputId": "33d02677-bf58-4a96-8c9f-2d9b613473f7"
      },
      "execution_count": null,
      "outputs": [
        {
          "output_type": "execute_result",
          "data": {
            "text/plain": [
              "['And it came to pass, that on the six hundredth and first year, in the first month, on the first day of the month, the waters dried on the earth and Noah removed the covering of the ark and looked to behold that the face of the ground was dry.',\n",
              " 'In the second month, on the seven and twentieth day of the month the earth was dried.',\n",
              " 'And God spake unto Noah saying, “Go forth from the ark thou, and thy wife, and thy sons, and thy sons ’ wives with thee',\n",
              " 'Bring forth with thee every living thing and with thee every flesh, and fowl, and cattle, and every creeping thing that creepeth upon the earth that they may breed abundantly so that the earth will be fruitful and multiply upon the earth.']"
            ]
          },
          "metadata": {},
          "execution_count": 11
        }
      ]
    },
    {
      "cell_type": "code",
      "source": [
        "reconst_vectorizer = Vectorizer()\n",
        "reconst_vectorizer.run(reconstructed_1)\n",
        "reconst_sentence_vectors = reconst_vectorizer.vectors"
      ],
      "metadata": {
        "colab": {
          "base_uri": "https://localhost:8080/"
        },
        "outputId": "509f0b26-57e3-4c8f-8cf8-443eac5556a5",
        "id": "2CiL0N9LxQI5"
      },
      "execution_count": null,
      "outputs": [
        {
          "output_type": "stream",
          "name": "stdout",
          "text": [
            "Initializing Bert distilbert-base-uncased\n",
            "Vectorization done on cpu\n"
          ]
        },
        {
          "output_type": "stream",
          "name": "stderr",
          "text": [
            "Some weights of the model checkpoint at distilbert-base-uncased were not used when initializing DistilBertModel: ['vocab_projector.weight', 'vocab_transform.weight', 'vocab_transform.bias', 'vocab_projector.bias', 'vocab_layer_norm.bias', 'vocab_layer_norm.weight']\n",
            "- This IS expected if you are initializing DistilBertModel from the checkpoint of a model trained on another task or with another architecture (e.g. initializing a BertForSequenceClassification model from a BertForPreTraining model).\n",
            "- This IS NOT expected if you are initializing DistilBertModel from the checkpoint of a model that you expect to be exactly identical (initializing a BertForSequenceClassification model from a BertForSequenceClassification model).\n"
          ]
        }
      ]
    },
    {
      "cell_type": "code",
      "source": [
        "# Distances between pruned and original vectors\n",
        "\n",
        "orig_distances = []\n",
        "\n",
        "for i in range(len(sentences_1)):\n",
        "  dist = distance.cosine(original_sentence_vectors[i], short_sentence_vectors[i])\n",
        "  orig_distances.append(dist)\n",
        "\n",
        "# Distances between reconstructed and original vectors\n",
        "\n",
        "rest_distances = []\n",
        "\n",
        "for i in range(len(sentences_1)):\n",
        "  dist = distance.cosine(original_sentence_vectors[i], reconst_sentence_vectors[i])\n",
        "  rest_distances.append(dist)\n",
        "\n",
        "total_orig = orig_distances\n",
        "total_rest = rest_distances"
      ],
      "metadata": {
        "id": "xfDH0RkwKtqv"
      },
      "execution_count": null,
      "outputs": []
    },
    {
      "cell_type": "code",
      "source": [
        "orig_distances"
      ],
      "metadata": {
        "colab": {
          "base_uri": "https://localhost:8080/"
        },
        "id": "qmU9RQFMyEjc",
        "outputId": "935f8fd8-9acb-47f4-d0f3-ff4843ae9fe9"
      },
      "execution_count": null,
      "outputs": [
        {
          "output_type": "execute_result",
          "data": {
            "text/plain": [
              "[0.19824445247650146,\n",
              " 0.12930917739868164,\n",
              " 0.08913064002990723,\n",
              " 0.05677163600921631]"
            ]
          },
          "metadata": {},
          "execution_count": 14
        }
      ]
    },
    {
      "cell_type": "code",
      "source": [
        "rest_distances"
      ],
      "metadata": {
        "colab": {
          "base_uri": "https://localhost:8080/"
        },
        "id": "VNrrnswXyIMq",
        "outputId": "42744513-8aac-4de8-9adb-5ddf91b79a23"
      },
      "execution_count": null,
      "outputs": [
        {
          "output_type": "execute_result",
          "data": {
            "text/plain": [
              "[0.012972772121429443,\n",
              " 0.008686065673828125,\n",
              " 0.004303872585296631,\n",
              " 0.03312492370605469]"
            ]
          },
          "metadata": {},
          "execution_count": 15
        }
      ]
    },
    {
      "cell_type": "code",
      "source": [
        "np.mean(orig_distances)"
      ],
      "metadata": {
        "colab": {
          "base_uri": "https://localhost:8080/"
        },
        "id": "YqVRkQYvyS1Y",
        "outputId": "4e279c6a-8d79-49ea-bee2-daf7de9bfa4e"
      },
      "execution_count": null,
      "outputs": [
        {
          "output_type": "execute_result",
          "data": {
            "text/plain": [
              "0.11836397647857666"
            ]
          },
          "metadata": {},
          "execution_count": 16
        }
      ]
    },
    {
      "cell_type": "code",
      "source": [
        "np.mean(rest_distances)"
      ],
      "metadata": {
        "colab": {
          "base_uri": "https://localhost:8080/"
        },
        "id": "oz_iBoXDypgK",
        "outputId": "d1b4ab9a-c135-4675-c605-114e5e46f22d"
      },
      "execution_count": null,
      "outputs": [
        {
          "output_type": "execute_result",
          "data": {
            "text/plain": [
              "0.014771908521652222"
            ]
          },
          "metadata": {},
          "execution_count": 17
        }
      ]
    },
    {
      "cell_type": "markdown",
      "source": [
        "## Excerpt 2 - From Herman Melville's *Moby Dick*"
      ],
      "metadata": {
        "id": "GDIdNCijDE9r"
      }
    },
    {
      "cell_type": "code",
      "source": [
        "url = \"https://www.gutenberg.org/files/2701/2701-0.txt\"\n",
        "sentences = []\n",
        "\n",
        "response = request.urlopen(url)\n",
        "soup = BeautifulSoup(response, features=\"html.parser\")\n",
        "text = soup.get_text()\n",
        "sentences += sent_tokenize(text)\n",
        "\n",
        "# Strip random symbols/non-English\n",
        "sentences = list(filter(lambda ele: re.search(\"[a-zA-Z\\s]+\", ele) is not None, sentences))\n",
        "sentences = [sentence.replace(\"\\r\", \"\") for sentence in sentences]\n",
        "sentences = [sentence.replace(\"\\n\", \" \") for sentence in sentences]\n",
        "sentences = [sentence.replace(\":\", \"\") for sentence in sentences]\n",
        "# sentences = [re.sub(r'[^\\w\\s]', '', sentence) for sentence in sentences]\n",
        "sentences = [\"\".join(i for i in s if not i.isdigit()) for s in sentences]\n",
        "sentences = sentences[4:]\n",
        "sentences = [s for s in sentences if not len(s) > 512]\n",
        "  \n",
        "def prune_sentence(sentence, stop_words):\n",
        "    word_tokens = word_tokenize(sentence)\n",
        "    return ' '.join([w for w in word_tokens if not w.lower() in stop_words and not w.lower() in string.punctuation]) \n",
        "\n",
        "pruned_sentences = [prune_sentence(sentence, stop_words) for sentence in sentences]"
      ],
      "metadata": {
        "id": "qzAYJ9hr4PEt"
      },
      "execution_count": null,
      "outputs": []
    },
    {
      "cell_type": "code",
      "source": [
        "original_text = ' '.join(sentences)\n",
        "pruned_text = ' '.join(pruned_sentences)\n",
        "original_size = (sys.getsizeof(original_text) / 1024)\n",
        "pruned_size = (sys.getsizeof(pruned_text) / 1024)\n",
        "\n",
        "print(\"Uncompressed size of original text is %.2f KB.\" % original_size)\n",
        "print(\"Uncompressed size of pruned text is %.2f KB.\" % pruned_size)\n",
        "print(\"Pruned text is %.1f%% size of original text.\\n\" % (pruned_size/original_size*100))\n",
        "\n",
        "original_compressed = gzip.compress(bytes(original_text, 'utf-8'))\n",
        "pruned_compressed = gzip.compress(bytes(pruned_text, 'utf-8'))\n",
        "original_size = (sys.getsizeof(original_compressed) / 1024)\n",
        "pruned_size = (sys.getsizeof(pruned_compressed) / 1024)\n",
        "\n",
        "print(\"Compressed size of original text using gzip is %.2f KB.\" % original_size)\n",
        "print(\"Compressed size of pruned text using gzip is %.2f KB.\" % pruned_size)\n",
        "print(\"Pruned text compresses to %.1f%% size of compressed original text.\\n\" % (pruned_size/original_size*100))\n",
        "\n",
        "original_compressed = zstd.compress(bytes(original_text, 'utf-8'), 22)\n",
        "pruned_compressed = zstd.compress(bytes(pruned_text, 'utf-8'), 22)\n",
        "original_size = (sys.getsizeof(original_compressed) / 1024)\n",
        "pruned_size = (sys.getsizeof(pruned_compressed) / 1024)\n",
        "\n",
        "print(\"Compressed size of original text using zstd level 22 is %.2f KB.\" % original_size)\n",
        "print(\"Compressed size of pruned text using zstd level 22 is %.2f KB.\" % pruned_size)\n",
        "print(\"Pruned text compresses to %.1f%% size of compressed original text.\" % (pruned_size/original_size*100))"
      ],
      "metadata": {
        "outputId": "f3232ac8-1f38-441f-9d1d-4510a25057dd",
        "colab": {
          "base_uri": "https://localhost:8080/"
        },
        "id": "zY3ayJ3aS52a"
      },
      "execution_count": null,
      "outputs": [
        {
          "output_type": "stream",
          "name": "stdout",
          "text": [
            "Uncompressed size of original text is 2241.26 KB.\n",
            "Uncompressed size of pruned text is 1439.94 KB.\n",
            "Pruned text is 64.2% size of original text.\n",
            "\n",
            "Compressed size of original text using gzip is 444.39 KB.\n",
            "Compressed size of pruned text using gzip is 292.33 KB.\n",
            "Pruned text compresses to 65.8% size of compressed original text.\n",
            "\n",
            "Compressed size of original text using zstd level 22 is 365.48 KB.\n",
            "Compressed size of pruned text using zstd level 22 is 247.58 KB.\n",
            "Pruned text compresses to 67.7% size of compressed original text.\n"
          ]
        }
      ]
    },
    {
      "cell_type": "code",
      "source": [
        "sentences_2 = sentences[455:460]\n",
        "sentences_2"
      ],
      "metadata": {
        "colab": {
          "base_uri": "https://localhost:8080/"
        },
        "outputId": "2af39f2f-440f-46ae-e28c-e3c0bcc9da08",
        "id": "wmDrZWXV4ce0"
      },
      "execution_count": null,
      "outputs": [
        {
          "output_type": "execute_result",
          "data": {
            "text/plain": [
              "['Call me Ishmael.',\n",
              " 'Some years ago—never mind how long precisely—having little or no money in my purse, and nothing particular to interest me on shore, I thought I would sail about a little and see the watery part of the world.',\n",
              " 'It is a way I have of driving off the spleen and regulating the circulation.',\n",
              " 'Whenever I find myself growing grim about the mouth; whenever it is a damp, drizzly November in my soul; whenever I find myself involuntarily pausing before coffin warehouses, and bringing up the rear of every funeral I meet; and especially whenever my hypos get such an upper hand of me, that it requires a strong moral principle to prevent me from deliberately stepping into the street, and methodically knocking people’s hats off—then, I account it high time to get to sea as soon as I can.',\n",
              " 'This is my substitute for pistol and ball.']"
            ]
          },
          "metadata": {},
          "execution_count": 20
        }
      ]
    },
    {
      "cell_type": "code",
      "source": [
        "original_vectorizer = Vectorizer()\n",
        "original_vectorizer.run(sentences_2)\n",
        "original_sentence_vectors = original_vectorizer.vectors"
      ],
      "metadata": {
        "colab": {
          "base_uri": "https://localhost:8080/"
        },
        "outputId": "e5051e16-e4ab-4885-9b85-9c0f92582ced",
        "id": "brIozsVs9yQ5"
      },
      "execution_count": null,
      "outputs": [
        {
          "output_type": "stream",
          "name": "stdout",
          "text": [
            "Initializing Bert distilbert-base-uncased\n",
            "Vectorization done on cpu\n"
          ]
        },
        {
          "output_type": "stream",
          "name": "stderr",
          "text": [
            "Some weights of the model checkpoint at distilbert-base-uncased were not used when initializing DistilBertModel: ['vocab_projector.weight', 'vocab_transform.weight', 'vocab_transform.bias', 'vocab_projector.bias', 'vocab_layer_norm.bias', 'vocab_layer_norm.weight']\n",
            "- This IS expected if you are initializing DistilBertModel from the checkpoint of a model trained on another task or with another architecture (e.g. initializing a BertForSequenceClassification model from a BertForPreTraining model).\n",
            "- This IS NOT expected if you are initializing DistilBertModel from the checkpoint of a model that you expect to be exactly identical (initializing a BertForSequenceClassification model from a BertForSequenceClassification model).\n"
          ]
        }
      ]
    },
    {
      "cell_type": "code",
      "source": [
        "shorts_2 = pruned_sentences[455:460]\n",
        "shorts_2"
      ],
      "metadata": {
        "colab": {
          "base_uri": "https://localhost:8080/"
        },
        "outputId": "e710ff10-27ee-42e4-a409-5c9bb60a6555",
        "id": "mmKcrIio4k6i"
      },
      "execution_count": null,
      "outputs": [
        {
          "output_type": "execute_result",
          "data": {
            "text/plain": [
              "['Call Ishmael',\n",
              " 'years ago—never mind long precisely—having little money purse nothing particular interest shore thought would sail little see watery part world',\n",
              " 'way driving spleen regulating circulation',\n",
              " 'Whenever find growing grim mouth whenever damp drizzly November soul whenever find involuntarily pausing coffin warehouses bringing rear every funeral meet especially whenever hypos get upper hand requires strong moral principle prevent deliberately stepping street methodically knocking people ’ hats off—then account high time get sea soon',\n",
              " 'substitute pistol ball']"
            ]
          },
          "metadata": {},
          "execution_count": 22
        }
      ]
    },
    {
      "cell_type": "code",
      "source": [
        "short_vectorizer = Vectorizer()\n",
        "short_vectorizer.run(shorts_2)\n",
        "short_sentence_vectors = short_vectorizer.vectors"
      ],
      "metadata": {
        "colab": {
          "base_uri": "https://localhost:8080/"
        },
        "outputId": "63d99338-aa6a-426f-e023-aec3586c3779",
        "id": "09jMIFSE9202"
      },
      "execution_count": null,
      "outputs": [
        {
          "output_type": "stream",
          "name": "stdout",
          "text": [
            "Initializing Bert distilbert-base-uncased\n",
            "Vectorization done on cpu\n"
          ]
        },
        {
          "output_type": "stream",
          "name": "stderr",
          "text": [
            "Some weights of the model checkpoint at distilbert-base-uncased were not used when initializing DistilBertModel: ['vocab_projector.weight', 'vocab_transform.weight', 'vocab_transform.bias', 'vocab_projector.bias', 'vocab_layer_norm.bias', 'vocab_layer_norm.weight']\n",
            "- This IS expected if you are initializing DistilBertModel from the checkpoint of a model trained on another task or with another architecture (e.g. initializing a BertForSequenceClassification model from a BertForPreTraining model).\n",
            "- This IS NOT expected if you are initializing DistilBertModel from the checkpoint of a model that you expect to be exactly identical (initializing a BertForSequenceClassification model from a BertForSequenceClassification model).\n"
          ]
        }
      ]
    },
    {
      "cell_type": "code",
      "source": [
        "reconstructed_2 = ['Call me Ishmael', 'Some years ago—never mind how long precisely—having little money in my purse and nothing particular of interest on shore, I thought I would sail a little to see the watery part of the world', 'It was a way of driving my spleen and regulating my circulation', 'Whenever I find I am growing grim in the mouth or whenever it is damp and drizzly like November in my soul, or whenever I find myself involuntarily pausing at coffin warehouses or bringing up the rear at every funeral I meet; and especially whenever hypos get the upper hand of me and it requires strong moral principle to prevent me from deliberately stepping into the street and methodically knocking people’s hats off—then account high time to get to sea as soon as I can', 'This is my substitute for a pistol and ball']\n",
        "reconstructed_2"
      ],
      "metadata": {
        "colab": {
          "base_uri": "https://localhost:8080/"
        },
        "outputId": "47405ced-ff80-4b58-9f63-d56f2bf08fea",
        "id": "qDWc7L7pFQUG"
      },
      "execution_count": null,
      "outputs": [
        {
          "output_type": "execute_result",
          "data": {
            "text/plain": [
              "['Call me Ishmael',\n",
              " 'Some years ago—never mind how long precisely—having little money in my purse and nothing particular of interest on shore, I thought I would sail a little to see the watery part of the world',\n",
              " 'It was a way of driving my spleen and regulating my circulation',\n",
              " 'Whenever I find I am growing grim in the mouth or whenever it is damp and drizzly like November in my soul, or whenever I find myself involuntarily pausing at coffin warehouses or bringing up the rear at every funeral I meet; and especially whenever hypos get the upper hand of me and it requires strong moral principle to prevent me from deliberately stepping into the street and methodically knocking people’s hats off—then account high time to get to sea as soon as I can',\n",
              " 'This is my substitute for a pistol and ball']"
            ]
          },
          "metadata": {},
          "execution_count": 24
        }
      ]
    },
    {
      "cell_type": "code",
      "source": [
        "reconst_vectorizer = Vectorizer()\n",
        "reconst_vectorizer.run(reconstructed_2)\n",
        "reconst_sentence_vectors = reconst_vectorizer.vectors"
      ],
      "metadata": {
        "colab": {
          "base_uri": "https://localhost:8080/"
        },
        "outputId": "28a2b2a1-bd4e-420f-9de4-ce844cfc361e",
        "id": "koNaq6E599DF"
      },
      "execution_count": null,
      "outputs": [
        {
          "output_type": "stream",
          "name": "stdout",
          "text": [
            "Initializing Bert distilbert-base-uncased\n",
            "Vectorization done on cpu\n"
          ]
        },
        {
          "output_type": "stream",
          "name": "stderr",
          "text": [
            "Some weights of the model checkpoint at distilbert-base-uncased were not used when initializing DistilBertModel: ['vocab_projector.weight', 'vocab_transform.weight', 'vocab_transform.bias', 'vocab_projector.bias', 'vocab_layer_norm.bias', 'vocab_layer_norm.weight']\n",
            "- This IS expected if you are initializing DistilBertModel from the checkpoint of a model trained on another task or with another architecture (e.g. initializing a BertForSequenceClassification model from a BertForPreTraining model).\n",
            "- This IS NOT expected if you are initializing DistilBertModel from the checkpoint of a model that you expect to be exactly identical (initializing a BertForSequenceClassification model from a BertForSequenceClassification model).\n"
          ]
        }
      ]
    },
    {
      "cell_type": "code",
      "source": [
        "# Distances between pruned and original vectors\n",
        "\n",
        "orig_distances = []\n",
        "\n",
        "for i in range(len(sentences_2)):\n",
        "  dist = distance.cosine(original_sentence_vectors[i], short_sentence_vectors[i])\n",
        "  orig_distances.append(dist)\n",
        "\n",
        "# Distances between reconstructed and original vectors\n",
        "\n",
        "rest_distances = []\n",
        "\n",
        "for i in range(len(sentences_2)):\n",
        "  dist = distance.cosine(original_sentence_vectors[i], reconst_sentence_vectors[i])\n",
        "  rest_distances.append(dist)\n",
        "\n",
        "total_orig += orig_distances\n",
        "total_rest += rest_distances"
      ],
      "metadata": {
        "id": "wY_og7aM-McL"
      },
      "execution_count": null,
      "outputs": []
    },
    {
      "cell_type": "code",
      "source": [
        "orig_distances"
      ],
      "metadata": {
        "colab": {
          "base_uri": "https://localhost:8080/"
        },
        "outputId": "8450414d-977d-4b25-9e50-2c67149f44e0",
        "id": "2x3XDvMO_Ch3"
      },
      "execution_count": null,
      "outputs": [
        {
          "output_type": "execute_result",
          "data": {
            "text/plain": [
              "[0.032640695571899414,\n",
              " 0.05033355951309204,\n",
              " 0.028860092163085938,\n",
              " 0.2735424041748047,\n",
              " 0.03151208162307739]"
            ]
          },
          "metadata": {},
          "execution_count": 27
        }
      ]
    },
    {
      "cell_type": "code",
      "source": [
        "rest_distances"
      ],
      "metadata": {
        "colab": {
          "base_uri": "https://localhost:8080/"
        },
        "id": "3qYJQJKp_H-s",
        "outputId": "27562689-af7e-4833-f776-529722f7d19a"
      },
      "execution_count": null,
      "outputs": [
        {
          "output_type": "execute_result",
          "data": {
            "text/plain": [
              "[0.004494011402130127,\n",
              " 0.004813849925994873,\n",
              " 0.009506165981292725,\n",
              " 0.011010468006134033,\n",
              " 0.010721981525421143]"
            ]
          },
          "metadata": {},
          "execution_count": 28
        }
      ]
    },
    {
      "cell_type": "code",
      "source": [
        "np.mean(orig_distances)"
      ],
      "metadata": {
        "colab": {
          "base_uri": "https://localhost:8080/"
        },
        "id": "PpyclGgu_JhS",
        "outputId": "f9af523b-b301-488f-e6ec-caf7ae47ff76"
      },
      "execution_count": null,
      "outputs": [
        {
          "output_type": "execute_result",
          "data": {
            "text/plain": [
              "0.0833777666091919"
            ]
          },
          "metadata": {},
          "execution_count": 29
        }
      ]
    },
    {
      "cell_type": "code",
      "source": [
        "np.mean(rest_distances)"
      ],
      "metadata": {
        "colab": {
          "base_uri": "https://localhost:8080/"
        },
        "id": "hbb2u_-B_MmX",
        "outputId": "1ebafcbb-bac8-4ded-b7f9-d0bf840ffe04"
      },
      "execution_count": null,
      "outputs": [
        {
          "output_type": "execute_result",
          "data": {
            "text/plain": [
              "0.00810929536819458"
            ]
          },
          "metadata": {},
          "execution_count": 30
        }
      ]
    },
    {
      "cell_type": "markdown",
      "source": [
        "## Excerpt 3 - From Alexander Dumas' *The Count of Monte Cristo*"
      ],
      "metadata": {
        "id": "ss_1-91gDVUx"
      }
    },
    {
      "cell_type": "code",
      "source": [
        "url = \"https://www.gutenberg.org/cache/epub/1184/pg1184.txt\"\n",
        "sentences = []\n",
        "\n",
        "response = request.urlopen(url)\n",
        "soup = BeautifulSoup(response, features=\"html.parser\")\n",
        "text = soup.get_text()\n",
        "sentences += sent_tokenize(text)\n",
        "\n",
        "# Strip random symbols/non-English\n",
        "sentences = list(filter(lambda ele: re.search(\"[a-zA-Z\\s]+\", ele) is not None, sentences))\n",
        "sentences = [sentence.replace(\"\\r\", \"\") for sentence in sentences]\n",
        "sentences = [sentence.replace(\"\\n\", \" \") for sentence in sentences]\n",
        "sentences = [sentence.replace(\":\", \"\") for sentence in sentences]\n",
        "# sentences = [re.sub(r'[^\\w\\s]', '', sentence) for sentence in sentences]\n",
        "sentences = [\"\".join(i for i in s if not i.isdigit()) for s in sentences]\n",
        "sentences = sentences[4:]\n",
        "sentences = [s for s in sentences if not len(s) > 512]\n",
        "  \n",
        "def prune_sentence(sentence, stop_words):\n",
        "    word_tokens = word_tokenize(sentence)\n",
        "    return ' '.join([w for w in word_tokens if not w.lower() in stop_words and not w.lower() in string.punctuation]) \n",
        "\n",
        "pruned_sentences = [prune_sentence(sentence, stop_words) for sentence in sentences]"
      ],
      "metadata": {
        "id": "lpD0bICMK2JR"
      },
      "execution_count": null,
      "outputs": []
    },
    {
      "cell_type": "code",
      "source": [
        "original_text = ' '.join(sentences)\n",
        "pruned_text = ' '.join(pruned_sentences)\n",
        "original_size = (sys.getsizeof(original_text) / 1024)\n",
        "pruned_size = (sys.getsizeof(pruned_text) / 1024)\n",
        "\n",
        "print(\"Uncompressed size of original text is %.2f KB.\" % original_size)\n",
        "print(\"Uncompressed size of pruned text is %.2f KB.\" % pruned_size)\n",
        "print(\"Pruned text is %.1f%% size of original text.\\n\" % (pruned_size/original_size*100))\n",
        "\n",
        "original_compressed = gzip.compress(bytes(original_text, 'utf-8'))\n",
        "pruned_compressed = gzip.compress(bytes(pruned_text, 'utf-8'))\n",
        "original_size = (sys.getsizeof(original_compressed) / 1024)\n",
        "pruned_size = (sys.getsizeof(pruned_compressed) / 1024)\n",
        "\n",
        "print(\"Compressed size of original text using gzip is %.2f KB.\" % original_size)\n",
        "print(\"Compressed size of pruned text using gzip is %.2f KB.\" % pruned_size)\n",
        "print(\"Pruned text compresses to %.1f%% size of compressed original text.\\n\" % (pruned_size/original_size*100))\n",
        "\n",
        "original_compressed = zstd.compress(bytes(original_text, 'utf-8'), 22)\n",
        "pruned_compressed = zstd.compress(bytes(pruned_text, 'utf-8'), 22)\n",
        "original_size = (sys.getsizeof(original_compressed) / 1024)\n",
        "pruned_size = (sys.getsizeof(pruned_compressed) / 1024)\n",
        "\n",
        "print(\"Compressed size of original text using zstd level 22 is %.2f KB.\" % original_size)\n",
        "print(\"Compressed size of pruned text using zstd level 22 is %.2f KB.\" % pruned_size)\n",
        "print(\"Pruned text compresses to %.1f%% size of compressed original text.\" % (pruned_size/original_size*100))"
      ],
      "metadata": {
        "outputId": "b72851a5-2efd-49ea-fe84-262bf27093dc",
        "colab": {
          "base_uri": "https://localhost:8080/"
        },
        "id": "1kELILfkTLjY"
      },
      "execution_count": null,
      "outputs": [
        {
          "output_type": "stream",
          "name": "stdout",
          "text": [
            "Uncompressed size of original text is 4456.52 KB.\n",
            "Uncompressed size of pruned text is 2823.45 KB.\n",
            "Pruned text is 63.4% size of original text.\n",
            "\n",
            "Compressed size of original text using gzip is 815.21 KB.\n",
            "Compressed size of pruned text using gzip is 519.64 KB.\n",
            "Pruned text compresses to 63.7% size of compressed original text.\n",
            "\n",
            "Compressed size of original text using zstd level 22 is 630.15 KB.\n",
            "Compressed size of pruned text using zstd level 22 is 422.44 KB.\n",
            "Pruned text compresses to 67.0% size of compressed original text.\n"
          ]
        }
      ]
    },
    {
      "cell_type": "code",
      "source": [
        "sentences_3 = sentences[281:285]\n",
        "sentences_3"
      ],
      "metadata": {
        "colab": {
          "base_uri": "https://localhost:8080/"
        },
        "outputId": "0d57a635-ca6b-4dff-f066-cb1eb41d234e",
        "id": "O7cdlUI_LKat"
      },
      "execution_count": null,
      "outputs": [
        {
          "output_type": "execute_result",
          "data": {
            "text/plain": [
              "['The Catalans  Beyond a bare, weather-worn wall, about a hundred paces from the spot where the two friends sat looking and listening as they drank their wine, was the village of the Catalans.',\n",
              " 'Long ago this mysterious colony quitted Spain, and settled on the tongue of land on which it is to this day.',\n",
              " 'Whence it came no one knew, and it spoke an unknown tongue.',\n",
              " 'One of its chiefs, who understood Provençal, begged the commune of Marseilles to give them this bare and barren promontory, where, like the sailors of old, they had run their boats ashore.']"
            ]
          },
          "metadata": {},
          "execution_count": 33
        }
      ]
    },
    {
      "cell_type": "code",
      "source": [
        "original_vectorizer = Vectorizer()\n",
        "original_vectorizer.run(sentences_3)\n",
        "original_sentence_vectors = original_vectorizer.vectors"
      ],
      "metadata": {
        "colab": {
          "base_uri": "https://localhost:8080/"
        },
        "outputId": "4b535444-5d42-423e-9669-3cc9c61352ce",
        "id": "Mabxt78HAEXb"
      },
      "execution_count": null,
      "outputs": [
        {
          "output_type": "stream",
          "name": "stdout",
          "text": [
            "Initializing Bert distilbert-base-uncased\n",
            "Vectorization done on cpu\n"
          ]
        },
        {
          "output_type": "stream",
          "name": "stderr",
          "text": [
            "Some weights of the model checkpoint at distilbert-base-uncased were not used when initializing DistilBertModel: ['vocab_projector.weight', 'vocab_transform.weight', 'vocab_transform.bias', 'vocab_projector.bias', 'vocab_layer_norm.bias', 'vocab_layer_norm.weight']\n",
            "- This IS expected if you are initializing DistilBertModel from the checkpoint of a model trained on another task or with another architecture (e.g. initializing a BertForSequenceClassification model from a BertForPreTraining model).\n",
            "- This IS NOT expected if you are initializing DistilBertModel from the checkpoint of a model that you expect to be exactly identical (initializing a BertForSequenceClassification model from a BertForSequenceClassification model).\n"
          ]
        }
      ]
    },
    {
      "cell_type": "code",
      "source": [
        "shorts_3 = pruned_sentences[281:285]\n",
        "shorts_3"
      ],
      "metadata": {
        "colab": {
          "base_uri": "https://localhost:8080/"
        },
        "id": "FzVPx_QJL8yR",
        "outputId": "fb283761-3bef-472f-8b07-fcde3ed72b86"
      },
      "execution_count": null,
      "outputs": [
        {
          "output_type": "execute_result",
          "data": {
            "text/plain": [
              "['Catalans Beyond bare weather-worn wall hundred paces spot two friends sat looking listening drank wine village Catalans',\n",
              " 'Long ago mysterious colony quitted Spain settled tongue land day',\n",
              " 'Whence came one knew spoke unknown tongue',\n",
              " 'One chiefs understood Provençal begged commune Marseilles give bare barren promontory like sailors old run boats ashore']"
            ]
          },
          "metadata": {},
          "execution_count": 35
        }
      ]
    },
    {
      "cell_type": "code",
      "source": [
        "short_vectorizer = Vectorizer()\n",
        "short_vectorizer.run(shorts_3)\n",
        "short_sentence_vectors = short_vectorizer.vectors"
      ],
      "metadata": {
        "colab": {
          "base_uri": "https://localhost:8080/"
        },
        "outputId": "7878b5d9-f941-42f7-abea-ff6ea0cedaec",
        "id": "1n42_BEKAI0O"
      },
      "execution_count": null,
      "outputs": [
        {
          "output_type": "stream",
          "name": "stdout",
          "text": [
            "Initializing Bert distilbert-base-uncased\n",
            "Vectorization done on cpu\n"
          ]
        },
        {
          "output_type": "stream",
          "name": "stderr",
          "text": [
            "Some weights of the model checkpoint at distilbert-base-uncased were not used when initializing DistilBertModel: ['vocab_projector.weight', 'vocab_transform.weight', 'vocab_transform.bias', 'vocab_projector.bias', 'vocab_layer_norm.bias', 'vocab_layer_norm.weight']\n",
            "- This IS expected if you are initializing DistilBertModel from the checkpoint of a model trained on another task or with another architecture (e.g. initializing a BertForSequenceClassification model from a BertForPreTraining model).\n",
            "- This IS NOT expected if you are initializing DistilBertModel from the checkpoint of a model that you expect to be exactly identical (initializing a BertForSequenceClassification model from a BertForSequenceClassification model).\n"
          ]
        }
      ]
    },
    {
      "cell_type": "code",
      "source": [
        "reconstructed_3 = ['The Catalans – Beyond a bare, weather-worn wall, about a hundred paces from the spot where two friends sat looking and listening while they drank wine, was the village of the Catalans.', 'Long ago, this mysterious colony had quitted Spain, and settled on the tongue of land where it is to this day', 'Whence it came no one knew and it spoke an unknown tongue', 'One of the chiefs who understood Provençal begged to commune with Marseilles to give them bare, barren promontory, where, like sailors of old they had run boats ashore']\n",
        "reconstructed_3"
      ],
      "metadata": {
        "colab": {
          "base_uri": "https://localhost:8080/"
        },
        "id": "65llXj3CTSfy",
        "outputId": "6401aad1-991b-4f91-8e34-d1e45861478b"
      },
      "execution_count": null,
      "outputs": [
        {
          "output_type": "execute_result",
          "data": {
            "text/plain": [
              "['The Catalans – Beyond a bare, weather-worn wall, about a hundred paces from the spot where two friends sat looking and listening while they drank wine, was the village of the Catalans.',\n",
              " 'Long ago, this mysterious colony had quitted Spain, and settled on the tongue of land where it is to this day',\n",
              " 'Whence it came no one knew and it spoke an unknown tongue',\n",
              " 'One of the chiefs who understood Provençal begged to commune with Marseilles to give them bare, barren promontory, where, like sailors of old they had run boats ashore']"
            ]
          },
          "metadata": {},
          "execution_count": 37
        }
      ]
    },
    {
      "cell_type": "code",
      "source": [
        "reconst_vectorizer = Vectorizer()\n",
        "reconst_vectorizer.run(reconstructed_3)\n",
        "reconst_sentence_vectors = reconst_vectorizer.vectors"
      ],
      "metadata": {
        "colab": {
          "base_uri": "https://localhost:8080/"
        },
        "outputId": "efc552bd-f3d6-47cf-c3d8-70218eff2ffc",
        "id": "3-PUdJWdAOIQ"
      },
      "execution_count": null,
      "outputs": [
        {
          "output_type": "stream",
          "name": "stdout",
          "text": [
            "Initializing Bert distilbert-base-uncased\n",
            "Vectorization done on cpu\n"
          ]
        },
        {
          "output_type": "stream",
          "name": "stderr",
          "text": [
            "Some weights of the model checkpoint at distilbert-base-uncased were not used when initializing DistilBertModel: ['vocab_projector.weight', 'vocab_transform.weight', 'vocab_transform.bias', 'vocab_projector.bias', 'vocab_layer_norm.bias', 'vocab_layer_norm.weight']\n",
            "- This IS expected if you are initializing DistilBertModel from the checkpoint of a model trained on another task or with another architecture (e.g. initializing a BertForSequenceClassification model from a BertForPreTraining model).\n",
            "- This IS NOT expected if you are initializing DistilBertModel from the checkpoint of a model that you expect to be exactly identical (initializing a BertForSequenceClassification model from a BertForSequenceClassification model).\n"
          ]
        }
      ]
    },
    {
      "cell_type": "code",
      "source": [
        "# Distances between pruned and original vectors\n",
        "\n",
        "orig_distances = []\n",
        "\n",
        "for i in range(len(sentences_3)):\n",
        "  dist = distance.cosine(original_sentence_vectors[i], short_sentence_vectors[i])\n",
        "  orig_distances.append(dist)\n",
        "\n",
        "# Distances between reconstructed and original vectors\n",
        "\n",
        "rest_distances = []\n",
        "\n",
        "for i in range(len(sentences_3)):\n",
        "  dist = distance.cosine(original_sentence_vectors[i], reconst_sentence_vectors[i])\n",
        "  rest_distances.append(dist)\n",
        "\n",
        "total_orig += orig_distances\n",
        "total_rest += rest_distances"
      ],
      "metadata": {
        "id": "3pIo2vchCoXL"
      },
      "execution_count": null,
      "outputs": []
    },
    {
      "cell_type": "code",
      "source": [
        "orig_distances"
      ],
      "metadata": {
        "colab": {
          "base_uri": "https://localhost:8080/"
        },
        "id": "U8UV1v4jCoXL",
        "outputId": "866dcd48-c7be-4421-a6d5-7d23fcf25229"
      },
      "execution_count": null,
      "outputs": [
        {
          "output_type": "execute_result",
          "data": {
            "text/plain": [
              "[0.11813569068908691,\n",
              " 0.08501327037811279,\n",
              " 0.08286517858505249,\n",
              " 0.06080502271652222]"
            ]
          },
          "metadata": {},
          "execution_count": 40
        }
      ]
    },
    {
      "cell_type": "code",
      "source": [
        "rest_distances"
      ],
      "metadata": {
        "colab": {
          "base_uri": "https://localhost:8080/"
        },
        "id": "2Qsz-VNcCoXL",
        "outputId": "9f0ededc-a8f7-4a0b-8bf6-3d064705cf42"
      },
      "execution_count": null,
      "outputs": [
        {
          "output_type": "execute_result",
          "data": {
            "text/plain": [
              "[0.002785325050354004,\n",
              " 0.004799246788024902,\n",
              " 0.014127016067504883,\n",
              " 0.016070663928985596]"
            ]
          },
          "metadata": {},
          "execution_count": 41
        }
      ]
    },
    {
      "cell_type": "code",
      "source": [
        "np.mean(orig_distances)"
      ],
      "metadata": {
        "colab": {
          "base_uri": "https://localhost:8080/"
        },
        "id": "q0pdhSFhCoXL",
        "outputId": "64f80236-3e79-4403-ef03-e9a14bce9de9"
      },
      "execution_count": null,
      "outputs": [
        {
          "output_type": "execute_result",
          "data": {
            "text/plain": [
              "0.0867047905921936"
            ]
          },
          "metadata": {},
          "execution_count": 42
        }
      ]
    },
    {
      "cell_type": "code",
      "source": [
        "np.mean(rest_distances)"
      ],
      "metadata": {
        "colab": {
          "base_uri": "https://localhost:8080/"
        },
        "id": "gq2b5MTjCoXL",
        "outputId": "17bee369-71e1-4145-b407-5268c728f165"
      },
      "execution_count": null,
      "outputs": [
        {
          "output_type": "execute_result",
          "data": {
            "text/plain": [
              "0.009445562958717346"
            ]
          },
          "metadata": {},
          "execution_count": 43
        }
      ]
    },
    {
      "cell_type": "markdown",
      "source": [
        "## Excerpt 4 - From Kenneth Grahame's *The Wind in the Willows*"
      ],
      "metadata": {
        "id": "EdL8DPKJDlxN"
      }
    },
    {
      "cell_type": "code",
      "source": [
        "url = \"https://www.gutenberg.org/files/289/289-0.txt\"\n",
        "sentences = []\n",
        "\n",
        "response = request.urlopen(url)\n",
        "soup = BeautifulSoup(response, features=\"html.parser\")\n",
        "text = soup.get_text()\n",
        "sentences += sent_tokenize(text)\n",
        "\n",
        "# Strip random symbols/non-English\n",
        "sentences = list(filter(lambda ele: re.search(\"[a-zA-Z\\s]+\", ele) is not None, sentences))\n",
        "sentences = [sentence.replace(\"\\r\", \"\") for sentence in sentences]\n",
        "sentences = [sentence.replace(\"\\n\", \" \") for sentence in sentences]\n",
        "sentences = [sentence.replace(\":\", \"\") for sentence in sentences]\n",
        "# sentences = [re.sub(r'[^\\w\\s]', '', sentence) for sentence in sentences]\n",
        "sentences = [\"\".join(i for i in s if not i.isdigit()) for s in sentences]\n",
        "sentences = sentences[4:]\n",
        "sentences = [s for s in sentences if not len(s) > 512]\n",
        "  \n",
        "def prune_sentence(sentence, stop_words):\n",
        "    word_tokens = word_tokenize(sentence)\n",
        "    return ' '.join([w for w in word_tokens if not w.lower() in stop_words and not w.lower() in string.punctuation]) \n",
        "\n",
        "pruned_sentences = [prune_sentence(sentence, stop_words) for sentence in sentences]"
      ],
      "metadata": {
        "id": "tlusukSlQkkq"
      },
      "execution_count": null,
      "outputs": []
    },
    {
      "cell_type": "code",
      "source": [
        "original_text = ' '.join(sentences)\n",
        "pruned_text = ' '.join(pruned_sentences)\n",
        "original_size = (sys.getsizeof(original_text) / 1024)\n",
        "pruned_size = (sys.getsizeof(pruned_text) / 1024)\n",
        "\n",
        "print(\"Uncompressed size of original text is %.2f KB.\" % original_size)\n",
        "print(\"Uncompressed size of pruned text is %.2f KB.\" % pruned_size)\n",
        "print(\"Pruned text is %.1f%% size of original text.\\n\" % (pruned_size/original_size*100))\n",
        "\n",
        "original_compressed = gzip.compress(bytes(original_text, 'utf-8'))\n",
        "pruned_compressed = gzip.compress(bytes(pruned_text, 'utf-8'))\n",
        "original_size = (sys.getsizeof(original_compressed) / 1024)\n",
        "pruned_size = (sys.getsizeof(pruned_compressed) / 1024)\n",
        "\n",
        "print(\"Compressed size of original text using gzip is %.2f KB.\" % original_size)\n",
        "print(\"Compressed size of pruned text using gzip is %.2f KB.\" % pruned_size)\n",
        "print(\"Pruned text compresses to %.1f%% size of compressed original text.\\n\" % (pruned_size/original_size*100))\n",
        "\n",
        "original_compressed = zstd.compress(bytes(original_text, 'utf-8'), 22)\n",
        "pruned_compressed = zstd.compress(bytes(pruned_text, 'utf-8'), 22)\n",
        "original_size = (sys.getsizeof(original_compressed) / 1024)\n",
        "pruned_size = (sys.getsizeof(pruned_compressed) / 1024)\n",
        "\n",
        "print(\"Compressed size of original text using zstd level 22 is %.2f KB.\" % original_size)\n",
        "print(\"Compressed size of pruned text using zstd level 22 is %.2f KB.\" % pruned_size)\n",
        "print(\"Pruned text compresses to %.1f%% size of compressed original text.\" % (pruned_size/original_size*100))"
      ],
      "metadata": {
        "outputId": "5969eace-3d0f-4c8b-8a9c-dd017f3adcb9",
        "colab": {
          "base_uri": "https://localhost:8080/"
        },
        "id": "lSM8tjMSTOZ1"
      },
      "execution_count": null,
      "outputs": [
        {
          "output_type": "stream",
          "name": "stdout",
          "text": [
            "Uncompressed size of original text is 634.39 KB.\n",
            "Uncompressed size of pruned text is 392.90 KB.\n",
            "Pruned text is 61.9% size of original text.\n",
            "\n",
            "Compressed size of original text using gzip is 121.75 KB.\n",
            "Compressed size of pruned text using gzip is 77.71 KB.\n",
            "Pruned text compresses to 63.8% size of compressed original text.\n",
            "\n",
            "Compressed size of original text using zstd level 22 is 106.02 KB.\n",
            "Compressed size of pruned text using zstd level 22 is 69.88 KB.\n",
            "Pruned text compresses to 65.9% size of compressed original text.\n"
          ]
        }
      ]
    },
    {
      "cell_type": "code",
      "source": [
        "sentences_4 = sentences[12:16]\n",
        "sentences_4"
      ],
      "metadata": {
        "colab": {
          "base_uri": "https://localhost:8080/"
        },
        "outputId": "b459b1c7-1b4a-4e3b-aaef-01be096dad7f",
        "id": "CCgXvhMtRQ9x"
      },
      "execution_count": null,
      "outputs": [
        {
          "output_type": "execute_result",
          "data": {
            "text/plain": [
              "['THE RIVER BANK   The Mole had been working very hard all the morning, spring-cleaning his little home.',\n",
              " 'First with brooms, then with dusters; then on ladders and steps and chairs, with a brush and a pail of whitewash; till he had dust in his throat and eyes, and splashes of whitewash all over his black fur, and an aching back and weary arms.',\n",
              " 'Spring was moving in the air above and in the earth below and around him, penetrating even his dark and lowly little house with its spirit of divine discontent and longing.',\n",
              " 'It was small wonder, then, that he suddenly flung down his brush on the floor, said “Bother!” and “O blow!” and also “Hang spring-cleaning!” and bolted out of the house without even waiting to put on his coat.']"
            ]
          },
          "metadata": {},
          "execution_count": 46
        }
      ]
    },
    {
      "cell_type": "code",
      "source": [
        "original_vectorizer = Vectorizer()\n",
        "original_vectorizer.run(sentences_4)\n",
        "original_sentence_vectors = original_vectorizer.vectors"
      ],
      "metadata": {
        "colab": {
          "base_uri": "https://localhost:8080/"
        },
        "outputId": "8463b54f-96d0-43f0-98e6-9213a4d2379b",
        "id": "WoloGrLeFpsE"
      },
      "execution_count": null,
      "outputs": [
        {
          "output_type": "stream",
          "name": "stdout",
          "text": [
            "Initializing Bert distilbert-base-uncased\n",
            "Vectorization done on cpu\n"
          ]
        },
        {
          "output_type": "stream",
          "name": "stderr",
          "text": [
            "Some weights of the model checkpoint at distilbert-base-uncased were not used when initializing DistilBertModel: ['vocab_projector.weight', 'vocab_transform.weight', 'vocab_transform.bias', 'vocab_projector.bias', 'vocab_layer_norm.bias', 'vocab_layer_norm.weight']\n",
            "- This IS expected if you are initializing DistilBertModel from the checkpoint of a model trained on another task or with another architecture (e.g. initializing a BertForSequenceClassification model from a BertForPreTraining model).\n",
            "- This IS NOT expected if you are initializing DistilBertModel from the checkpoint of a model that you expect to be exactly identical (initializing a BertForSequenceClassification model from a BertForSequenceClassification model).\n"
          ]
        }
      ]
    },
    {
      "cell_type": "code",
      "source": [
        "shorts_4 = pruned_sentences[12:16]\n",
        "shorts_4"
      ],
      "metadata": {
        "colab": {
          "base_uri": "https://localhost:8080/"
        },
        "outputId": "4cb4b6b7-a244-4c73-87fa-e58c5bdc7f0e",
        "id": "Sv8BIdIJROp2"
      },
      "execution_count": null,
      "outputs": [
        {
          "output_type": "execute_result",
          "data": {
            "text/plain": [
              "['RIVER BANK Mole working hard morning spring-cleaning little home',\n",
              " 'First brooms dusters ladders steps chairs brush pail whitewash till dust throat eyes splashes whitewash black fur aching back weary arms',\n",
              " 'Spring moving air earth around penetrating even dark lowly little house spirit divine discontent longing',\n",
              " 'small wonder suddenly flung brush floor said “ Bother ” “ blow ” also “ Hang spring-cleaning ” bolted house without even waiting put coat']"
            ]
          },
          "metadata": {},
          "execution_count": 48
        }
      ]
    },
    {
      "cell_type": "code",
      "source": [
        "short_vectorizer = Vectorizer()\n",
        "short_vectorizer.run(shorts_4)\n",
        "short_sentence_vectors = short_vectorizer.vectors"
      ],
      "metadata": {
        "colab": {
          "base_uri": "https://localhost:8080/"
        },
        "outputId": "390c81fc-9f37-4313-b9d7-45d082c1cf6a",
        "id": "nMwc4QkeFvYS"
      },
      "execution_count": null,
      "outputs": [
        {
          "output_type": "stream",
          "name": "stdout",
          "text": [
            "Initializing Bert distilbert-base-uncased\n",
            "Vectorization done on cpu\n"
          ]
        },
        {
          "output_type": "stream",
          "name": "stderr",
          "text": [
            "Some weights of the model checkpoint at distilbert-base-uncased were not used when initializing DistilBertModel: ['vocab_projector.weight', 'vocab_transform.weight', 'vocab_transform.bias', 'vocab_projector.bias', 'vocab_layer_norm.bias', 'vocab_layer_norm.weight']\n",
            "- This IS expected if you are initializing DistilBertModel from the checkpoint of a model trained on another task or with another architecture (e.g. initializing a BertForSequenceClassification model from a BertForPreTraining model).\n",
            "- This IS NOT expected if you are initializing DistilBertModel from the checkpoint of a model that you expect to be exactly identical (initializing a BertForSequenceClassification model from a BertForSequenceClassification model).\n"
          ]
        }
      ]
    },
    {
      "cell_type": "code",
      "source": [
        "reconstructed_4 = ['THE RIVER BANK – The Mole was working hard this morning on spring-cleaning in its little home', 'First with brooms, then with dusters, then with ladders, then with steps, then with chairs, then with a brush and a pail, and then with whitewash, till dust was in its throat and eyes and splashes of whitewash was in its black fur and it had an aching back and weary arms', 'Spring was moving in the air and the earth  around it penetrating even the dark lowly little house with its spirit of divine and discontent longing', 'It was a small wonder that it suddenly flung its brush on the floor said “ Bother” and “ blow ” and also “ Hang spring-cleaning ” and bolted out of the house without even waiting to put on a coat.']\n",
        "reconstructed_4"
      ],
      "metadata": {
        "colab": {
          "base_uri": "https://localhost:8080/"
        },
        "id": "U6QBSiL1TUqw",
        "outputId": "d6dc1abf-0d49-44e8-bb2c-6b9bb85f0597"
      },
      "execution_count": null,
      "outputs": [
        {
          "output_type": "execute_result",
          "data": {
            "text/plain": [
              "['THE RIVER BANK – The Mole was working hard this morning on spring-cleaning in its little home',\n",
              " 'First with brooms, then with dusters, then with ladders, then with steps, then with chairs, then with a brush and a pail, and then with whitewash, till dust was in its throat and eyes and splashes of whitewash was in its black fur and it had an aching back and weary arms',\n",
              " 'Spring was moving in the air and the earth  around it penetrating even the dark lowly little house with its spirit of divine and discontent longing',\n",
              " 'It was a small wonder that it suddenly flung its brush on the floor said “ Bother” and “ blow ” and also “ Hang spring-cleaning ” and bolted out of the house without even waiting to put on a coat.']"
            ]
          },
          "metadata": {},
          "execution_count": 50
        }
      ]
    },
    {
      "cell_type": "code",
      "source": [
        "reconst_vectorizer = Vectorizer()\n",
        "reconst_vectorizer.run(reconstructed_4)\n",
        "reconst_sentence_vectors = reconst_vectorizer.vectors"
      ],
      "metadata": {
        "colab": {
          "base_uri": "https://localhost:8080/"
        },
        "outputId": "2ed4b0e7-f067-4333-da50-3e1023c609a6",
        "id": "zn57GgHGF4Jc"
      },
      "execution_count": null,
      "outputs": [
        {
          "output_type": "stream",
          "name": "stdout",
          "text": [
            "Initializing Bert distilbert-base-uncased\n",
            "Vectorization done on cpu\n"
          ]
        },
        {
          "output_type": "stream",
          "name": "stderr",
          "text": [
            "Some weights of the model checkpoint at distilbert-base-uncased were not used when initializing DistilBertModel: ['vocab_projector.weight', 'vocab_transform.weight', 'vocab_transform.bias', 'vocab_projector.bias', 'vocab_layer_norm.bias', 'vocab_layer_norm.weight']\n",
            "- This IS expected if you are initializing DistilBertModel from the checkpoint of a model trained on another task or with another architecture (e.g. initializing a BertForSequenceClassification model from a BertForPreTraining model).\n",
            "- This IS NOT expected if you are initializing DistilBertModel from the checkpoint of a model that you expect to be exactly identical (initializing a BertForSequenceClassification model from a BertForSequenceClassification model).\n"
          ]
        }
      ]
    },
    {
      "cell_type": "code",
      "source": [
        "# Distances between pruned and original vectors\n",
        "\n",
        "orig_distances = []\n",
        "\n",
        "for i in range(len(sentences_1)):\n",
        "  dist = distance.cosine(original_sentence_vectors[i], short_sentence_vectors[i])\n",
        "  orig_distances.append(dist)\n",
        "\n",
        "# Distances between reconstructed and original vectors\n",
        "\n",
        "rest_distances = []\n",
        "\n",
        "for i in range(len(sentences_1)):\n",
        "  dist = distance.cosine(original_sentence_vectors[i], reconst_sentence_vectors[i])\n",
        "  rest_distances.append(dist)\n",
        "\n",
        "total_orig += orig_distances\n",
        "total_rest += rest_distances"
      ],
      "metadata": {
        "id": "wevarVQfEPhz"
      },
      "execution_count": null,
      "outputs": []
    },
    {
      "cell_type": "code",
      "source": [
        "orig_distances"
      ],
      "metadata": {
        "colab": {
          "base_uri": "https://localhost:8080/"
        },
        "id": "Efz4RbOAEPhz",
        "outputId": "8d8d9f3e-bed1-4d86-9abb-b6c04a65f4e5"
      },
      "execution_count": null,
      "outputs": [
        {
          "output_type": "execute_result",
          "data": {
            "text/plain": [
              "[0.05235600471496582,\n",
              " 0.19714993238449097,\n",
              " 0.06711715459823608,\n",
              " 0.07413583993911743]"
            ]
          },
          "metadata": {},
          "execution_count": 53
        }
      ]
    },
    {
      "cell_type": "code",
      "source": [
        "rest_distances"
      ],
      "metadata": {
        "colab": {
          "base_uri": "https://localhost:8080/"
        },
        "id": "9vLd4NpCEPh0",
        "outputId": "87afa7dc-aa13-40c1-ef62-6c0a562184e1"
      },
      "execution_count": null,
      "outputs": [
        {
          "output_type": "execute_result",
          "data": {
            "text/plain": [
              "[0.020674824714660645,\n",
              " 0.04645085334777832,\n",
              " 0.0431559681892395,\n",
              " 0.09053254127502441]"
            ]
          },
          "metadata": {},
          "execution_count": 54
        }
      ]
    },
    {
      "cell_type": "code",
      "source": [
        "np.mean(orig_distances)"
      ],
      "metadata": {
        "colab": {
          "base_uri": "https://localhost:8080/"
        },
        "id": "pYyLM-uuEPh0",
        "outputId": "9eda8e54-a535-4e2c-c61b-6e6a235064e1"
      },
      "execution_count": null,
      "outputs": [
        {
          "output_type": "execute_result",
          "data": {
            "text/plain": [
              "0.09768973290920258"
            ]
          },
          "metadata": {},
          "execution_count": 55
        }
      ]
    },
    {
      "cell_type": "code",
      "source": [
        "np.mean(rest_distances)"
      ],
      "metadata": {
        "colab": {
          "base_uri": "https://localhost:8080/"
        },
        "id": "4opTMw9oEPh0",
        "outputId": "b0d3915a-2c60-43fb-bb8d-e286e4a96461"
      },
      "execution_count": null,
      "outputs": [
        {
          "output_type": "execute_result",
          "data": {
            "text/plain": [
              "0.05020354688167572"
            ]
          },
          "metadata": {},
          "execution_count": 56
        }
      ]
    },
    {
      "cell_type": "markdown",
      "source": [
        "## Excerpt 5 - From Samuel Record's *The Mechanical Properties of Wood*"
      ],
      "metadata": {
        "id": "_QcIGkkaF-fJ"
      }
    },
    {
      "cell_type": "code",
      "source": [
        "url = \"https://www.gutenberg.org/cache/epub/12299/pg12299.txt\"\n",
        "sentences = []\n",
        "\n",
        "response = request.urlopen(url)\n",
        "soup = BeautifulSoup(response, features=\"html.parser\")\n",
        "text = soup.get_text()\n",
        "sentences += sent_tokenize(text)\n",
        "\n",
        "# Strip random symbols/non-English\n",
        "sentences = list(filter(lambda ele: re.search(\"[a-zA-Z\\s]+\", ele) is not None, sentences))\n",
        "sentences = [sentence.replace(\"\\r\", \"\") for sentence in sentences]\n",
        "sentences = [sentence.replace(\"\\n\", \" \") for sentence in sentences]\n",
        "sentences = [sentence.replace(\":\", \"\") for sentence in sentences]\n",
        "# sentences = [re.sub(r'[^\\w\\s]', '', sentence) for sentence in sentences]\n",
        "sentences = [\"\".join(i for i in s if not i.isdigit()) for s in sentences]\n",
        "sentences = sentences[4:]\n",
        "sentences = [s for s in sentences if not len(s) > 512]\n",
        "  \n",
        "def prune_sentence(sentence, stop_words):\n",
        "    word_tokens = word_tokenize(sentence)\n",
        "    return ' '.join([w for w in word_tokens if not w.lower() in stop_words and not w.lower() in string.punctuation]) \n",
        "\n",
        "pruned_sentences = [prune_sentence(sentence, stop_words) for sentence in sentences]"
      ],
      "metadata": {
        "id": "2l4jcFkUGbNZ"
      },
      "execution_count": null,
      "outputs": []
    },
    {
      "cell_type": "code",
      "source": [
        "original_text = ' '.join(sentences)\n",
        "pruned_text = ' '.join(pruned_sentences)\n",
        "original_size = (sys.getsizeof(original_text) / 1024)\n",
        "pruned_size = (sys.getsizeof(pruned_text) / 1024)\n",
        "\n",
        "print(\"Uncompressed size of original text is %.2f KB.\" % original_size)\n",
        "print(\"Uncompressed size of pruned text is %.2f KB.\" % pruned_size)\n",
        "print(\"Pruned text is %.1f%% size of original text.\\n\" % (pruned_size/original_size*100))\n",
        "\n",
        "original_compressed = gzip.compress(bytes(original_text, 'utf-8'))\n",
        "pruned_compressed = gzip.compress(bytes(pruned_text, 'utf-8'))\n",
        "original_size = (sys.getsizeof(original_compressed) / 1024)\n",
        "pruned_size = (sys.getsizeof(pruned_compressed) / 1024)\n",
        "\n",
        "print(\"Compressed size of original text using gzip is %.2f KB.\" % original_size)\n",
        "print(\"Compressed size of pruned text using gzip is %.2f KB.\" % pruned_size)\n",
        "print(\"Pruned text compresses to %.1f%% size of compressed original text.\\n\" % (pruned_size/original_size*100))\n",
        "\n",
        "original_compressed = zstd.compress(bytes(original_text, 'utf-8'), 22)\n",
        "pruned_compressed = zstd.compress(bytes(pruned_text, 'utf-8'), 22)\n",
        "original_size = (sys.getsizeof(original_compressed) / 1024)\n",
        "pruned_size = (sys.getsizeof(pruned_compressed) / 1024)\n",
        "\n",
        "print(\"Compressed size of original text using zstd level 22 is %.2f KB.\" % original_size)\n",
        "print(\"Compressed size of pruned text using zstd level 22 is %.2f KB.\" % pruned_size)\n",
        "print(\"Pruned text compresses to %.1f%% size of compressed original text.\" % (pruned_size/original_size*100))"
      ],
      "metadata": {
        "outputId": "ecce78c4-781b-4370-e3fd-4a76720c5626",
        "colab": {
          "base_uri": "https://localhost:8080/"
        },
        "id": "AstaYuueTQdD"
      },
      "execution_count": null,
      "outputs": [
        {
          "output_type": "stream",
          "name": "stdout",
          "text": [
            "Uncompressed size of original text is 273.07 KB.\n",
            "Uncompressed size of pruned text is 189.77 KB.\n",
            "Pruned text is 69.5% size of original text.\n",
            "\n",
            "Compressed size of original text using gzip is 85.79 KB.\n",
            "Compressed size of pruned text using gzip is 60.30 KB.\n",
            "Pruned text compresses to 70.3% size of compressed original text.\n",
            "\n",
            "Compressed size of original text using zstd level 22 is 75.33 KB.\n",
            "Compressed size of pruned text using zstd level 22 is 53.96 KB.\n",
            "Pruned text compresses to 71.6% size of compressed original text.\n"
          ]
        }
      ]
    },
    {
      "cell_type": "code",
      "source": [
        "sentences_5 = sentences[20:25]\n",
        "sentences_5"
      ],
      "metadata": {
        "colab": {
          "base_uri": "https://localhost:8080/"
        },
        "outputId": "e81c74cf-9b2b-4a6a-fe97-cbffbab81321",
        "id": "ABl9A-fPGbNa"
      },
      "execution_count": null,
      "outputs": [
        {
          "output_type": "execute_result",
          "data": {
            "text/plain": [
              "['This is a subject of interest to all who are concerned in the rational use of wood, and to the forester it also, by retrospection, suggests ways and means of regulating his forest product through control of the conditions of production.',\n",
              " 'Attempt has been made, in the light of all data at hand, to answer many moot questions, such as the effect on the quality of wood of rate of growth, season of cutting, heartwood and sapwood, locality of growth, weight, water content, steaming, and defects.',\n",
              " 'Part III describes methods of timber testing.',\n",
              " 'They are for the most part those followed by the U.S. Forest Service.',\n",
              " 'In schools equipped with the necessary machinery the instructions will serve to direct the tests; in others a study of the text with reference to the illustrations should give an adequate conception of the methods employed in this most important line of research.']"
            ]
          },
          "metadata": {},
          "execution_count": 59
        }
      ]
    },
    {
      "cell_type": "code",
      "source": [
        "original_vectorizer = Vectorizer()\n",
        "original_vectorizer.run(sentences_5)\n",
        "original_sentence_vectors = original_vectorizer.vectors"
      ],
      "metadata": {
        "colab": {
          "base_uri": "https://localhost:8080/"
        },
        "outputId": "fd2600f1-1a4b-4650-ea5f-9038059e941d",
        "id": "TC3ECqHtGbNa"
      },
      "execution_count": null,
      "outputs": [
        {
          "output_type": "stream",
          "name": "stdout",
          "text": [
            "Initializing Bert distilbert-base-uncased\n",
            "Vectorization done on cpu\n"
          ]
        },
        {
          "output_type": "stream",
          "name": "stderr",
          "text": [
            "Some weights of the model checkpoint at distilbert-base-uncased were not used when initializing DistilBertModel: ['vocab_projector.weight', 'vocab_transform.weight', 'vocab_transform.bias', 'vocab_projector.bias', 'vocab_layer_norm.bias', 'vocab_layer_norm.weight']\n",
            "- This IS expected if you are initializing DistilBertModel from the checkpoint of a model trained on another task or with another architecture (e.g. initializing a BertForSequenceClassification model from a BertForPreTraining model).\n",
            "- This IS NOT expected if you are initializing DistilBertModel from the checkpoint of a model that you expect to be exactly identical (initializing a BertForSequenceClassification model from a BertForSequenceClassification model).\n"
          ]
        }
      ]
    },
    {
      "cell_type": "code",
      "source": [
        "shorts_5 = pruned_sentences[20:25]\n",
        "shorts_5"
      ],
      "metadata": {
        "colab": {
          "base_uri": "https://localhost:8080/"
        },
        "outputId": "fa9f90d1-9cd4-4954-c8f8-e73c051f08c7",
        "id": "R541Szv_GbNb"
      },
      "execution_count": null,
      "outputs": [
        {
          "output_type": "execute_result",
          "data": {
            "text/plain": [
              "['subject interest concerned rational use wood forester also retrospection suggests ways means regulating forest product control conditions production',\n",
              " 'Attempt made light data hand answer many moot questions effect quality wood rate growth season cutting heartwood sapwood locality growth weight water content steaming defects',\n",
              " 'Part III describes methods timber testing',\n",
              " 'part followed U.S. Forest Service',\n",
              " 'schools equipped necessary machinery instructions serve direct tests others study text reference illustrations give adequate conception methods employed important line research']"
            ]
          },
          "metadata": {},
          "execution_count": 61
        }
      ]
    },
    {
      "cell_type": "code",
      "source": [
        "short_vectorizer = Vectorizer()\n",
        "short_vectorizer.run(shorts_5)\n",
        "short_sentence_vectors = short_vectorizer.vectors"
      ],
      "metadata": {
        "colab": {
          "base_uri": "https://localhost:8080/"
        },
        "outputId": "f5d00533-7d2e-4df8-a412-e67c47a6fc62",
        "id": "dyWRLLr6GbNb"
      },
      "execution_count": null,
      "outputs": [
        {
          "output_type": "stream",
          "name": "stdout",
          "text": [
            "Initializing Bert distilbert-base-uncased\n",
            "Vectorization done on cpu\n"
          ]
        },
        {
          "output_type": "stream",
          "name": "stderr",
          "text": [
            "Some weights of the model checkpoint at distilbert-base-uncased were not used when initializing DistilBertModel: ['vocab_projector.weight', 'vocab_transform.weight', 'vocab_transform.bias', 'vocab_projector.bias', 'vocab_layer_norm.bias', 'vocab_layer_norm.weight']\n",
            "- This IS expected if you are initializing DistilBertModel from the checkpoint of a model trained on another task or with another architecture (e.g. initializing a BertForSequenceClassification model from a BertForPreTraining model).\n",
            "- This IS NOT expected if you are initializing DistilBertModel from the checkpoint of a model that you expect to be exactly identical (initializing a BertForSequenceClassification model from a BertForSequenceClassification model).\n"
          ]
        }
      ]
    },
    {
      "cell_type": "code",
      "source": [
        "reconstructed_5 = ['This is a subject of interest for those concerned with the rational use of wood, and the forester who also, in retrospection, suggests ways and means of regulating the forest product and control conditions of production.', 'Attempt being made, in light of the data in hand, can answer many moot questions, such as the effect of the quality of wood and the rate of growth through the season cutting heartwood sapwood locality growth weight water content steaming defects.', 'Part III describes methods for timber testing.', 'This part is followed by the U.S. Forest Service', 'Few schools are equipped with the necessary machinery instructions to serve as direct tests by others to study and some text reference have illustrations to give an adequate conception of the methods employed by those who are important to this line of research.']\n",
        "reconstructed_5"
      ],
      "metadata": {
        "colab": {
          "base_uri": "https://localhost:8080/"
        },
        "outputId": "f8c34e26-ca48-4c8b-c706-99c20e370750",
        "id": "VH64yQcyGbNb"
      },
      "execution_count": null,
      "outputs": [
        {
          "output_type": "execute_result",
          "data": {
            "text/plain": [
              "['This is a subject of interest for those concerned with the rational use of wood, and the forester who also, in retrospection, suggests ways and means of regulating the forest product and control conditions of production.',\n",
              " 'Attempt being made, in light of the data in hand, can answer many moot questions, such as the effect of the quality of wood and the rate of growth through the season cutting heartwood sapwood locality growth weight water content steaming defects.',\n",
              " 'Part III describes methods for timber testing.',\n",
              " 'This part is followed by the U.S. Forest Service',\n",
              " 'Few schools are equipped with the necessary machinery instructions to serve as direct tests by others to study and some text reference have illustrations to give an adequate conception of the methods employed by those who are important to this line of research.']"
            ]
          },
          "metadata": {},
          "execution_count": 63
        }
      ]
    },
    {
      "cell_type": "code",
      "source": [
        "reconst_vectorizer = Vectorizer()\n",
        "reconst_vectorizer.run(reconstructed_5)\n",
        "reconst_sentence_vectors = reconst_vectorizer.vectors"
      ],
      "metadata": {
        "colab": {
          "base_uri": "https://localhost:8080/"
        },
        "outputId": "6273181b-d518-4b30-9705-232a8928cf5f",
        "id": "sdd-E8uZGbNc"
      },
      "execution_count": null,
      "outputs": [
        {
          "output_type": "stream",
          "name": "stdout",
          "text": [
            "Initializing Bert distilbert-base-uncased\n",
            "Vectorization done on cpu\n"
          ]
        },
        {
          "output_type": "stream",
          "name": "stderr",
          "text": [
            "Some weights of the model checkpoint at distilbert-base-uncased were not used when initializing DistilBertModel: ['vocab_projector.weight', 'vocab_transform.weight', 'vocab_transform.bias', 'vocab_projector.bias', 'vocab_layer_norm.bias', 'vocab_layer_norm.weight']\n",
            "- This IS expected if you are initializing DistilBertModel from the checkpoint of a model trained on another task or with another architecture (e.g. initializing a BertForSequenceClassification model from a BertForPreTraining model).\n",
            "- This IS NOT expected if you are initializing DistilBertModel from the checkpoint of a model that you expect to be exactly identical (initializing a BertForSequenceClassification model from a BertForSequenceClassification model).\n"
          ]
        }
      ]
    },
    {
      "cell_type": "code",
      "source": [
        "# Distances between pruned and original vectors\n",
        "\n",
        "orig_distances = []\n",
        "\n",
        "for i in range(len(sentences_1)):\n",
        "  dist = distance.cosine(original_sentence_vectors[i], short_sentence_vectors[i])\n",
        "  orig_distances.append(dist)\n",
        "\n",
        "# Distances between reconstructed and original vectors\n",
        "\n",
        "rest_distances = []\n",
        "\n",
        "for i in range(len(sentences_1)):\n",
        "  dist = distance.cosine(original_sentence_vectors[i], reconst_sentence_vectors[i])\n",
        "  rest_distances.append(dist)\n",
        "\n",
        "total_orig += orig_distances\n",
        "total_rest += rest_distances"
      ],
      "metadata": {
        "id": "8qqmwWHrGbNc"
      },
      "execution_count": null,
      "outputs": []
    },
    {
      "cell_type": "code",
      "source": [
        "orig_distances"
      ],
      "metadata": {
        "colab": {
          "base_uri": "https://localhost:8080/"
        },
        "id": "dKG_14ctGbNd",
        "outputId": "dc9bc84a-5938-4b71-8e7e-9d039d36f9ac"
      },
      "execution_count": null,
      "outputs": [
        {
          "output_type": "execute_result",
          "data": {
            "text/plain": [
              "[0.09673863649368286,\n",
              " 0.10230803489685059,\n",
              " 0.1848222017288208,\n",
              " 0.04450470209121704]"
            ]
          },
          "metadata": {},
          "execution_count": 66
        }
      ]
    },
    {
      "cell_type": "code",
      "source": [
        "rest_distances"
      ],
      "metadata": {
        "colab": {
          "base_uri": "https://localhost:8080/"
        },
        "id": "Z_v04MmYGbNd",
        "outputId": "1c0b245d-c27e-492f-d628-2c6143a215a2"
      },
      "execution_count": null,
      "outputs": [
        {
          "output_type": "execute_result",
          "data": {
            "text/plain": [
              "[0.05947297811508179,\n",
              " 0.025128841400146484,\n",
              " 0.010802388191223145,\n",
              " 0.024391591548919678]"
            ]
          },
          "metadata": {},
          "execution_count": 67
        }
      ]
    },
    {
      "cell_type": "code",
      "source": [
        "np.mean(orig_distances)"
      ],
      "metadata": {
        "colab": {
          "base_uri": "https://localhost:8080/"
        },
        "id": "Uufi-tTNGbNd",
        "outputId": "515bcf19-b0fe-4456-f7f3-9a053fe786eb"
      },
      "execution_count": null,
      "outputs": [
        {
          "output_type": "execute_result",
          "data": {
            "text/plain": [
              "0.10709339380264282"
            ]
          },
          "metadata": {},
          "execution_count": 68
        }
      ]
    },
    {
      "cell_type": "code",
      "source": [
        "np.mean(rest_distances)"
      ],
      "metadata": {
        "colab": {
          "base_uri": "https://localhost:8080/"
        },
        "id": "kvmEc6IMGbNd",
        "outputId": "8aad4b7f-c761-40a2-9843-89fe2960bbdc"
      },
      "execution_count": null,
      "outputs": [
        {
          "output_type": "execute_result",
          "data": {
            "text/plain": [
              "0.029948949813842773"
            ]
          },
          "metadata": {},
          "execution_count": 69
        }
      ]
    },
    {
      "cell_type": "markdown",
      "source": [
        "## Plots"
      ],
      "metadata": {
        "id": "pgiETP-BWM1v"
      }
    },
    {
      "cell_type": "code",
      "source": [
        "plt.plot(total_orig, color='r', label='pruned sentences')\n",
        "plt.plot(total_rest, color='b', label='restored sentences')\n",
        "plt.ylabel('Cosine distance')\n",
        "plt.xlabel('Test sentence')\n",
        "plt.title(\"Cosine Distance of Pruned and Reconstructed Sentences to Original Sentences\")\n",
        "plt.legend()\n",
        "plt.show()"
      ],
      "metadata": {
        "colab": {
          "base_uri": "https://localhost:8080/",
          "height": 295
        },
        "id": "eywFwqYmWPsj",
        "outputId": "81b56b07-c10c-4c2d-943d-9ba543214d4a"
      },
      "execution_count": null,
      "outputs": [
        {
          "output_type": "display_data",
          "data": {
            "text/plain": [
              "<Figure size 432x288 with 1 Axes>"
            ],
            "image/png": "[encoded data removed]"
          },
          "metadata": {
            "needs_background": "light"
          }
        }
      ]
    },
    {
      "cell_type": "code",
      "source": [
        "np.mean(total_rest)"
      ],
      "metadata": {
        "colab": {
          "base_uri": "https://localhost:8080/"
        },
        "id": "P79bhxVSpdMg",
        "outputId": "4575fb92-eb2c-4e2a-cdeb-232c646cad68"
      },
      "execution_count": null,
      "outputs": [
        {
          "output_type": "execute_result",
          "data": {
            "text/plain": [
              "0.02181077854973929"
            ]
          },
          "metadata": {},
          "execution_count": 76
        }
      ]
    }
  ]
}